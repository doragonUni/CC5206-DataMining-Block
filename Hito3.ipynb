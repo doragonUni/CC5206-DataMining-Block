{
  "cells": [
    {
      "cell_type": "code",
      "execution_count": 13,
      "metadata": {
        "id": "U7_rg9ICBJ07"
      },
      "outputs": [
        {
          "name": "stderr",
          "output_type": "stream",
          "text": [
            "C:\\Users\\Cherry\\anaconda3\\lib\\site-packages\\rpy2\\robjects\\packages.py:366: UserWarning: The symbol 'quartz' is not in this R namespace/package.\n",
            "  warnings.warn(\n"
          ]
        }
      ],
      "source": [
        "# Activate R magic:\n",
        "%load_ext rpy2.ipython"
      ]
    },
    {
      "cell_type": "markdown",
      "metadata": {
        "id": "8f3InZcTD_lv"
      },
      "source": [
        "# 1.Introducción\n",
        "\n",
        "Las ventas online en Chile aumentaron 119% en la última semana de marzo de 2021, cuando comenzaron las cuarentenas en el país, [según la Cámara de Comercio de Santiago](https://forbescentroamerica.com/2020/04/23/el-efecto-de-covid-19-en-el-ecommerce/).\n",
        "\n",
        " Esto implicó un cambio en la estrategia de negocios de múltiples empresas a nivel nacional. Dada la imposibilidad de ir presencialmente a una tienda, gran cantidad de empresas a nivel nacional tuvieron que dejar de lado la clásica tienda comercial y se vieron obligados a potenciar su canal de ventas e-commerce.\n",
        "\n",
        " De esta forma, se busca entregar información personalizada a los clientes, vía e-mail, basado en los productos que este ha adquirido anteriormente. Con esto, también se busca tener más información sobre los clientes para futuros proyectos.\n",
        "\n",
        "**Blockstore** es una cadena de tiendas, ubicada en Chile, enfocada la venta de zapatillas, accesorios y vestuario de las mejores marcas urbanas.\n",
        "Dada la contingencia mundial de la pandemia y el estallido social del 2019, Block tuvo que adaptarse al canal de ventas online por lo que la necesidad de la aplicación de análisis de datos y en particular de minería de datos va en el contexto cambiante en el ámbito nacional, donde la crisis social, pandemia, mayor dinero circulante y un aumento explosivo en ventas online hacen necesario tener las mejores estrategias diferenciadas para cada cliente.\n",
        "\n",
        "Es por esto que decidimos estudiar el comportamiento de compra de los clientes a nivel nacional.\n",
        "Nos parece interesante estudiar estos datos para generar más ventas enfocando una estrategia de negocios diferenciada para cada grupo de clientes en específico de acuerdo a sus gustos.\n",
        "\n",
        "\n",
        "# 2.Exploración de Datos"
      ]
    },
    {
      "cell_type": "code",
      "execution_count": null,
      "metadata": {
        "colab": {
          "base_uri": "https://localhost:8080/"
        },
        "id": "euiH_tQ8DuVG",
        "outputId": "f221ebe5-ff3b-473b-f8e1-9bf7c68ddb57"
      },
      "outputs": [
        {
          "name": "stderr",
          "output_type": "stream",
          "text": [
            "R[write to console]: \n",
            "Attaching package: ‘dplyr’\n",
            "\n",
            "\n",
            "R[write to console]: The following objects are masked from ‘package:stats’:\n",
            "\n",
            "    filter, lag\n",
            "\n",
            "\n",
            "R[write to console]: The following objects are masked from ‘package:base’:\n",
            "\n",
            "    intersect, setdiff, setequal, union\n",
            "\n",
            "\n",
            "R[write to console]: ── Attaching packages ─────────────────────────────────────── tidyverse 1.3.1 ──\n",
            "\n",
            "R[write to console]: ✔ tibble  3.1.5     ✔ purrr   0.3.4\n",
            "✔ tidyr   1.1.4     ✔ stringr 1.4.0\n",
            "✔ readr   2.0.2     ✔ forcats 0.5.1\n",
            "\n",
            "R[write to console]: ── Conflicts ────────────────────────────────────────── tidyverse_conflicts() ──\n",
            "✖ dplyr::filter() masks stats::filter()\n",
            "✖ dplyr::lag()    masks stats::lag()\n",
            "\n"
          ]
        }
      ],
      "source": [
        "# Asignamos nuestro \"working directory\" (set w. d.) como el directorio ~/RDATA y ponemos librerías\n",
        "%%R\n",
        "library(ggplot2)\n",
        "library(dplyr)\n",
        "library(tidyverse)"
      ]
    },
    {
      "cell_type": "markdown",
      "metadata": {
        "id": "T5p1FdDWEKDY"
      },
      "source": [
        "**Cargamos los datos originales**\n",
        "Sin embargo, estos datos no están limpios debido a que los clientes no ingresaron bien los datos, por lo que se realizó una limpieza de los datos para poder trabajar de mejor manera."
      ]
    },
    {
      "cell_type": "code",
      "execution_count": null,
      "metadata": {
        "id": "2A5epmDDELSs"
      },
      "outputs": [],
      "source": [
        "# (No volver a ejecutar pls)\n",
        "%%R\n",
        "pedidos_preeliminar <- read_csv(\"/content/orders.csv\")\n",
        "pedidos_detalle_preeliminar <-read_csv(\"/content/order_detail.csv\")"
      ]
    },
    {
      "cell_type": "markdown",
      "metadata": {
        "id": "NHEj7vxyEZMo"
      },
      "source": [
        "A modo de resumen se dejan la cantidad de columnas y filas de cada dataset"
      ]
    },
    {
      "cell_type": "code",
      "execution_count": null,
      "metadata": {
        "colab": {
          "base_uri": "https://localhost:8080/"
        },
        "id": "oMLG1qwjEZ0A",
        "outputId": "68fdb429-8a72-4c92-af05-c1851ff43638"
      },
      "outputs": [
        {
          "name": "stdout",
          "output_type": "stream",
          "text": [
            "[1] 104955\n",
            "[1] 68\n",
            "[1] 126704\n",
            "[1] 9\n"
          ]
        }
      ],
      "source": [
        "%%R\n",
        "print(nrow(pedidos_preeliminar))\n",
        "print(ncol(pedidos_preeliminar))\n",
        "print(nrow(pedidos_detalle_preeliminar))\n",
        "print(ncol(pedidos_detalle_preeliminar))"
      ]
    },
    {
      "cell_type": "markdown",
      "metadata": {
        "id": "bI3geYhFEfei"
      },
      "source": [
        "Para la limpieza se eliminaron filas vacías, datos *dummy* realizados por la empresa, y otros valores incosistentes y repetitivos.\n",
        "También se hizo un refactoring de los nombres de las columnas para un mejor entendimiento del dataset."
      ]
    },
    {
      "cell_type": "code",
      "execution_count": null,
      "metadata": {
        "colab": {
          "base_uri": "https://localhost:8080/"
        },
        "id": "ESl6QJtdEhS9",
        "outputId": "e675caf8-1d85-449c-d897-52cfbe6b7f61"
      },
      "outputs": [
        {
          "name": "stderr",
          "output_type": "stream",
          "text": [
            "UsageError: Cell magic `%%R` not found.\n"
          ]
        }
      ],
      "source": [
        "%%R\n",
        "pedidos<-read.csv(\"/content/Orders_OFICIAL.csv\", encoding = \"UTF-8\", sep=\";\")\n",
        "pedidos_detalle <-read.csv(\"/content/ORDER_DETAIL_OFICIAL.csv\", encoding = \"UTF-8\",sep=\";\")\n",
        "pedidos$count <- as.numeric(ave(pedidos$Comuna, pedidos$Comuna, FUN = length))\n",
        "pedidos_detalle$count.marca <- as.numeric(ave(pedidos_detalle$Marca, pedidos_detalle$Marca, FUN = length))"
      ]
    },
    {
      "cell_type": "code",
      "execution_count": null,
      "metadata": {
        "id": "OIIL4Zp-EnFI"
      },
      "outputs": [],
      "source": [
        "%%R\n",
        "# Se cambia el formato de la columna Fecha.Compra a Date.\n",
        "pedidos$Fecha.Compra <- as.Date(pedidos$Fecha.Compra, format =\"%d-%m-%Y\")\n",
        "# Se cambia el formato de la columna Fecha.Pedido a Date. También se agrega una columna con el año.\n",
        "pedidos_detalle$Fecha.Pedido <- as.Date(pedidos_detalle$Fecha.Pedido, format =\"%Y-%m-%d\")\n",
        "pedidos_detalle$anio <- as.numeric(format(pedidos_detalle$Fecha.Pedido,'%Y'))"
      ]
    },
    {
      "cell_type": "markdown",
      "metadata": {
        "id": "kk2FY-k-ErS4"
      },
      "source": [
        "# 2.1. Estudio sobre los datos filtrados\n",
        "\n",
        "1. **A grandes razgos podemos calcular la cantidad promedio que se gasta una persona en Block:**"
      ]
    },
    {
      "cell_type": "code",
      "execution_count": null,
      "metadata": {
        "colab": {
          "base_uri": "https://localhost:8080/"
        },
        "id": "FS0OLe9wEswP",
        "outputId": "77e84d3d-49d9-42c0-bec4-658748695613"
      },
      "outputs": [
        {
          "name": "stdout",
          "output_type": "stream",
          "text": [
            "[1] 45364.45\n"
          ]
        }
      ],
      "source": [
        "%%R\n",
        "nfilas <- nrow(pedidos)\n",
        "total_vendido <- sum(pedidos$Precio.Pedido)\n",
        "promedio_pedidos <- total_vendido/nfilas\n",
        "(promedio_pedidos)"
      ]
    },
    {
      "cell_type": "markdown",
      "metadata": {
        "id": "99WbHjMLEyS5"
      },
      "source": [
        "2. **Vamos a ver primero la cantidad de gente que pide más y menos que el promedio:**\n"
      ]
    },
    {
      "cell_type": "code",
      "execution_count": null,
      "metadata": {
        "colab": {
          "base_uri": "https://localhost:8080/"
        },
        "id": "1fC6Xn0jE0Jp",
        "outputId": "74d00372-e979-4d62-caf3-75b6aced9027"
      },
      "outputs": [
        {
          "name": "stdout",
          "output_type": "stream",
          "text": [
            "[1] 36083\n",
            "[1] 45759\n"
          ]
        }
      ],
      "source": [
        "%%R\n",
        "#La gente que pide mas que el promedio\n",
        "pedidos_RM_mayorpromedio <- data.frame(pedidos[pedidos$REGION.CON.CODIGO == \"RM\" & pedidos$Precio.Pedido > promedio_pedidos,] ) \n",
        "print(nrow(pedidos_RM_mayorpromedio))\n",
        "#La gente que pide menos que el promedio\n",
        "pedidos_RM_menorpromedio <- data.frame(pedidos[pedidos$REGION.CON.CODIGO == \"RM\" & pedidos$Precio.Pedido <= promedio_pedidos,] ) \n",
        "print(nrow(pedidos_RM_menorpromedio))"
      ]
    },
    {
      "cell_type": "markdown",
      "metadata": {
        "id": "9gyCf3cSI51_"
      },
      "source": [
        "3. **El pedido más caro en Block online**\n",
        "Podemos ver que en la tabla pedidos_Detalles según el numero de pedido podemos ver el detalle de la compra que realizó la clienta."
      ]
    },
    {
      "cell_type": "code",
      "execution_count": null,
      "metadata": {
        "colab": {
          "base_uri": "https://localhost:8080/"
        },
        "id": "xwZvp5TyI6hb",
        "outputId": "2750e9fb-deaa-41f0-f063-24132536441c"
      },
      "outputs": [
        {
          "name": "stdout",
          "output_type": "stream",
          "text": [
            "           ID                    Email Precio.Pedido Numero.Pedido   ID.Cliente\n",
            "3488 1,72E+12 alfredo.e.vega@gmail.com        454116       #BL4499 1.939678e+12\n",
            "     Fecha.Compra Año.Compra Mes.Compra Cantidad.Pedidos.Cliente\n",
            "3488   2019-07-25       2019          7                       17\n",
            "     Total.Gastado.Cliente       RUT           Direccion.1 Direccion.2 Comuna\n",
            "3488               1050781 18172868k Caupolican 1620 renca         210  RENCA\n",
            "     Nombre.Cliente REGION.CON.CODIGO Tipo.despacho count\n",
            "3488 Camila Fuentes                RM      Despacho  1337\n"
          ]
        }
      ],
      "source": [
        "%%R\n",
        "pedidos[which.max(pedidos$Precio.Pedido),]\n"
      ]
    },
    {
      "cell_type": "code",
      "execution_count": null,
      "metadata": {
        "colab": {
          "base_uri": "https://localhost:8080/"
        },
        "id": "2B_VVXr3Jjgt",
        "outputId": "b7f6cf6a-30fc-41d4-cda4-93a3c1ef5fe6"
      },
      "outputs": [
        {
          "name": "stdout",
          "output_type": "stream",
          "text": [
            "[1] 454116\n"
          ]
        }
      ],
      "source": [
        "%%R\n",
        "#usamos su numero de pedido para ver las compras realizadas\n",
        "pedido_maximo_detalle <- pedidos_detalle[pedidos_detalle$Numero.Pedido == \"#BL4499\",]\n",
        "#verificamos el dinero sea consistente en ambas tablas\n",
        "sum(pedido_maximo_detalle$Precio.Total.Productos)"
      ]
    },
    {
      "cell_type": "markdown",
      "metadata": {
        "id": "-xgRCcBFJn4o"
      },
      "source": [
        "4. **La cantidad de pedidos divididos por región:**"
      ]
    },
    {
      "cell_type": "code",
      "execution_count": null,
      "metadata": {
        "colab": {
          "base_uri": "https://localhost:8080/",
          "height": 497
        },
        "id": "QCiN62cfJoUH",
        "outputId": "8f207f4c-1f6d-4ba3-d52a-05771f89e073"
      },
      "outputs": [
        {
          "data": {
            "image/png": "[encoded data removed]"
          },
          "metadata": {},
          "output_type": "display_data"
        }
      ],
      "source": [
        "%%R\n",
        "ggplot(pedidos, aes(x = REGION.CON.CODIGO),) +\n",
        "   ggtitle(\"Cantidad de pedidos por región\") +\n",
        "  geom_bar()"
      ]
    },
    {
      "cell_type": "markdown",
      "metadata": {
        "id": "7pkd7Ug2JtmF"
      },
      "source": [
        "5. **Cantidad de pedidos dividos por comuna**"
      ]
    },
    {
      "cell_type": "code",
      "execution_count": null,
      "metadata": {
        "colab": {
          "base_uri": "https://localhost:8080/",
          "height": 497
        },
        "id": "LARL6uTQJwUF",
        "outputId": "e777a0c0-1ab7-4e78-c750-027779c824ae"
      },
      "outputs": [
        {
          "data": {
            "image/png": "[encoded data removed]"
          },
          "metadata": {},
          "output_type": "display_data"
        }
      ],
      "source": [
        "%%R\n",
        "freq_comuna <- data.frame(comuna = pedidos$Comuna, count = pedidos$count)\n",
        "freq_comuna <-  unique(freq_comuna)\n",
        "freq_comuna <- freq_comuna[order(freq_comuna[,\"count\"], decreasing = TRUE),]\n",
        "ggplot(freq_comuna[1:30,], aes(x = reorder(comuna , count),y = count)) + ggtitle(\"Las 30 Comunas con mas pedidos del pais\") + coord_flip() + geom_bar(stat = \"identity\")"
      ]
    },
    {
      "cell_type": "markdown",
      "metadata": {
        "id": "d-DteECkJ75i"
      },
      "source": [
        "6. Puente alto y Las condes son de las comunas más pobladas de la RM\n",
        "Puente alto es una de las comunas más \"zapatilleras\" vs \"Las condes\" que es una comuna que tiende más a la ropa formal. A continuación veremos la cantidad de pedidos, el promedio de estos y la suma total de dinero de las respectivas comunas:"
      ]
    },
    {
      "cell_type": "code",
      "execution_count": null,
      "metadata": {
        "colab": {
          "base_uri": "https://localhost:8080/"
        },
        "id": "rmFshZNOJ9JW",
        "outputId": "a80acffb-3651-412c-d231-b73290f0da2c"
      },
      "outputs": [
        {
          "name": "stdout",
          "output_type": "stream",
          "text": [
            "[1] 2777\n",
            "[1] 47841.46\n",
            "[1] 132855726\n",
            "[1] 5462\n",
            "[1] 42816.93\n",
            "[1] 233866080\n"
          ]
        }
      ],
      "source": [
        "%%R\n",
        "pedidos_comuna_Lascondes <- data.frame(pedidos[pedidos$Comuna == \"LAS CONDES\", ] )\n",
        "print(nrow(pedidos_comuna_Lascondes))\n",
        "print(mean(pedidos_comuna_Lascondes$Precio.Pedido))\n",
        "print(sum(pedidos_comuna_Lascondes$Precio.Pedido))\n",
        "\n",
        "pedidos_comuna_maipu <- data.frame(pedidos[pedidos$Comuna == \"MAIPU\", ] )\n",
        "print(nrow(pedidos_comuna_maipu))\n",
        "print(mean(pedidos_comuna_maipu$Precio.Pedido))\n",
        "print(sum(pedidos_comuna_maipu$Precio.Pedido))"
      ]
    },
    {
      "cell_type": "markdown",
      "metadata": {
        "id": "uSC3H4pGKUfF"
      },
      "source": [
        "7. **Se deja un historial de pedidos desde el inicio del dataset hasta la ultima fecha presente:**"
      ]
    },
    {
      "cell_type": "code",
      "execution_count": null,
      "metadata": {
        "colab": {
          "base_uri": "https://localhost:8080/",
          "height": 497
        },
        "id": "6_ZuN5HCKU_c",
        "outputId": "df221c90-88aa-4f47-b754-5e5ae080da11"
      },
      "outputs": [
        {
          "data": {
            "image/png": "[encoded data removed]"
          },
          "metadata": {},
          "output_type": "display_data"
        }
      ],
      "source": [
        "%%R\n",
        "ggplot(pedidos, aes(x = Fecha.Compra) ) + geom_bar() + scale_x_date(date_breaks = \"1 month\", date_labels = \"%b\") + labs(title = \"Compras a lo largo del tiempo\", x = \"fecha\", y = \"Cantidad de pedidos\")"
      ]
    },
    {
      "cell_type": "markdown",
      "metadata": {
        "id": "Xce21VMtKbaI"
      },
      "source": [
        "8. **Vamos a ver cuanto se ha vendido en block por marca**"
      ]
    },
    {
      "cell_type": "code",
      "execution_count": null,
      "metadata": {
        "colab": {
          "base_uri": "https://localhost:8080/",
          "height": 497
        },
        "id": "EevmuHhKKb-j",
        "outputId": "de6c0377-1632-42c3-a614-6d2e36f8e3bf"
      },
      "outputs": [
        {
          "data": {
            "image/png": "[encoded data removed]"
          },
          "metadata": {},
          "output_type": "display_data"
        }
      ],
      "source": [
        "%%R\n",
        "freq_marca <- data.frame(marca = pedidos_detalle$Marca, count = pedidos_detalle$count.marca)\n",
        "freq_marca <-  unique(freq_marca)\n",
        "freq_marca <- freq_marca[order(freq_marca[,\"count\"], decreasing = TRUE),]\n",
        "\n",
        "ggplot(freq_marca[1:30,], aes(x = reorder(marca , count), y = count)) + ggtitle(\"Las 30 Marcas con mas pedidos del pais\") + coord_flip() + geom_bar(stat = \"identity\")"
      ]
    },
    {
      "cell_type": "markdown",
      "metadata": {
        "id": "ChhEB07KKiH8"
      },
      "source": [
        "9. **Veremos cuanto se ha vendido en block por marca:**"
      ]
    },
    {
      "cell_type": "code",
      "execution_count": null,
      "metadata": {
        "colab": {
          "base_uri": "https://localhost:8080/",
          "height": 497
        },
        "id": "DgU-hIUmKitD",
        "outputId": "187a8e60-fb24-426b-f421-e739390eada0"
      },
      "outputs": [
        {
          "data": {
            "image/png": "[encoded data removed]"
          },
          "metadata": {},
          "output_type": "display_data"
        }
      ],
      "source": [
        "%%R\n",
        "precio_marca <- data.frame(marca = pedidos_detalle$Marca, precio = pedidos_detalle$Precio.Producto)\n",
        "\n",
        "p1 <- ggplot(pedidos_detalle, aes(x = Marca, y = Precio.Producto)) + geom_boxplot()+ coord_flip() + ggtitle(\"Precios de la marca\")\n",
        "p1"
      ]
    },
    {
      "cell_type": "markdown",
      "metadata": {
        "id": "4MxSeYwHOmyU"
      },
      "source": [
        "# Hito 3\n",
        "\n",
        "Para este hito se trabajará con la librería *pandas* en *Python*, por lo que se debe reimportar las bases de datos y también limpiarlas para reordenar las ideas que serán llevadas a cabo en este *Hito 2*.\n",
        "\n",
        "Se importan las librerías necesarias para la exploración:"
      ]
    },
    {
      "cell_type": "code",
      "execution_count": 2,
      "metadata": {
        "id": "zP9gnaqOOq8J"
      },
      "outputs": [],
      "source": [
        "# Librerias principales para la exploración:\n",
        "import csv\n",
        "import pandas as pd\n",
        "import numpy as np\n",
        "import matplotlib.pyplot as plt"
      ]
    },
    {
      "cell_type": "code",
      "execution_count": 1,
      "metadata": {},
      "outputs": [
        {
          "name": "stderr",
          "output_type": "stream",
          "text": [
            "C:\\Users\\Cherry\\anaconda3\\lib\\site-packages\\rpy2\\robjects\\packages.py:366: UserWarning: The symbol 'quartz' is not in this R namespace/package.\n",
            "  warnings.warn(\n"
          ]
        }
      ],
      "source": []
    },
    {
      "cell_type": "markdown",
      "metadata": {
        "id": "A3SBi9tSXVEG"
      },
      "source": [
        "Luego de esto, borramos las columnas de la dirección y el rut para proteger la privacidad de cada uno de los compradores, además que tenemos un ID de cliente que identifica a cada persona única, similar al *RUT*."
      ]
    },
    {
      "cell_type": "code",
      "execution_count": 8,
      "metadata": {
        "colab": {
          "base_uri": "https://localhost:8080/",
          "height": 254
        },
        "id": "xNbtnzLBO0mS",
        "outputId": "eb6d2d43-ea2c-41e3-b551-1c03f0442ac5"
      },
      "outputs": [
        {
          "data": {
            "text/html": [
              "<div>\n",
              "<style scoped>\n",
              "    .dataframe tbody tr th:only-of-type {\n",
              "        vertical-align: middle;\n",
              "    }\n",
              "\n",
              "    .dataframe tbody tr th {\n",
              "        vertical-align: top;\n",
              "    }\n",
              "\n",
              "    .dataframe thead th {\n",
              "        text-align: right;\n",
              "    }\n",
              "</style>\n",
              "<table border=\"1\" class=\"dataframe\">\n",
              "  <thead>\n",
              "    <tr style=\"text-align: right;\">\n",
              "      <th></th>\n",
              "      <th>ID</th>\n",
              "      <th>Precio Pedido</th>\n",
              "      <th>Numero Pedido</th>\n",
              "      <th>ID Cliente</th>\n",
              "      <th>Fecha Compra</th>\n",
              "      <th>Año Compra</th>\n",
              "      <th>Mes Compra</th>\n",
              "      <th>Cantidad Pedidos Cliente</th>\n",
              "      <th>Total Gastado Cliente</th>\n",
              "      <th>Comuna</th>\n",
              "      <th>Nombre Cliente</th>\n",
              "      <th>REGION CON CODIGO</th>\n",
              "      <th>Tipo despacho</th>\n",
              "    </tr>\n",
              "  </thead>\n",
              "  <tbody>\n",
              "    <tr>\n",
              "      <th>0</th>\n",
              "      <td>1,15E+12</td>\n",
              "      <td>21900</td>\n",
              "      <td>#1010</td>\n",
              "      <td>1.899446e+12</td>\n",
              "      <td>08-07-2019</td>\n",
              "      <td>2019</td>\n",
              "      <td>7</td>\n",
              "      <td>13.0</td>\n",
              "      <td>444337.0</td>\n",
              "      <td>COLINA</td>\n",
              "      <td>DENNISSE ALVARADO CHIGUAY</td>\n",
              "      <td>RM</td>\n",
              "      <td>Despacho</td>\n",
              "    </tr>\n",
              "    <tr>\n",
              "      <th>1</th>\n",
              "      <td>1,15E+12</td>\n",
              "      <td>37419</td>\n",
              "      <td>#1011</td>\n",
              "      <td>1.938644e+12</td>\n",
              "      <td>25-07-2019</td>\n",
              "      <td>2019</td>\n",
              "      <td>7</td>\n",
              "      <td>1.0</td>\n",
              "      <td>37419.0</td>\n",
              "      <td>307</td>\n",
              "      <td>Florencia  Garcia</td>\n",
              "      <td>RM</td>\n",
              "      <td>Despacho</td>\n",
              "    </tr>\n",
              "    <tr>\n",
              "      <th>2</th>\n",
              "      <td>1,15E+12</td>\n",
              "      <td>40419</td>\n",
              "      <td>#1012</td>\n",
              "      <td>1.938654e+12</td>\n",
              "      <td>25-07-2019</td>\n",
              "      <td>2019</td>\n",
              "      <td>7</td>\n",
              "      <td>1.0</td>\n",
              "      <td>40419.0</td>\n",
              "      <td>301</td>\n",
              "      <td>Belén  Herrera</td>\n",
              "      <td>RM</td>\n",
              "      <td>Despacho</td>\n",
              "    </tr>\n",
              "    <tr>\n",
              "      <th>3</th>\n",
              "      <td>1,15E+12</td>\n",
              "      <td>12329</td>\n",
              "      <td>#1013</td>\n",
              "      <td>1.939397e+12</td>\n",
              "      <td>25-07-2019</td>\n",
              "      <td>2019</td>\n",
              "      <td>7</td>\n",
              "      <td>1.0</td>\n",
              "      <td>12329.0</td>\n",
              "      <td>316</td>\n",
              "      <td>Jason Lizana</td>\n",
              "      <td>RM</td>\n",
              "      <td>Despacho</td>\n",
              "    </tr>\n",
              "    <tr>\n",
              "      <th>4</th>\n",
              "      <td>1,15E+12</td>\n",
              "      <td>20993</td>\n",
              "      <td>#1014</td>\n",
              "      <td>1.906865e+12</td>\n",
              "      <td>10-07-2019</td>\n",
              "      <td>2019</td>\n",
              "      <td>7</td>\n",
              "      <td>14.0</td>\n",
              "      <td>656793.0</td>\n",
              "      <td>LO BARNECHEA</td>\n",
              "      <td>Tomas Schnapp</td>\n",
              "      <td>RM</td>\n",
              "      <td>Retiro en tienda</td>\n",
              "    </tr>\n",
              "  </tbody>\n",
              "</table>\n",
              "</div>"
            ],
            "text/plain": [
              "         ID  Precio Pedido Numero Pedido    ID Cliente Fecha Compra  \\\n",
              "0  1,15E+12          21900         #1010  1.899446e+12   08-07-2019   \n",
              "1  1,15E+12          37419         #1011  1.938644e+12   25-07-2019   \n",
              "2  1,15E+12          40419         #1012  1.938654e+12   25-07-2019   \n",
              "3  1,15E+12          12329         #1013  1.939397e+12   25-07-2019   \n",
              "4  1,15E+12          20993         #1014  1.906865e+12   10-07-2019   \n",
              "\n",
              "   Año Compra  Mes Compra  Cantidad Pedidos Cliente  Total Gastado Cliente  \\\n",
              "0        2019           7                      13.0               444337.0   \n",
              "1        2019           7                       1.0                37419.0   \n",
              "2        2019           7                       1.0                40419.0   \n",
              "3        2019           7                       1.0                12329.0   \n",
              "4        2019           7                      14.0               656793.0   \n",
              "\n",
              "         Comuna             Nombre Cliente REGION CON CODIGO     Tipo despacho  \n",
              "0        COLINA  DENNISSE ALVARADO CHIGUAY                RM          Despacho  \n",
              "1           307         Florencia  Garcia                 RM          Despacho  \n",
              "2           301            Belén  Herrera                 RM          Despacho  \n",
              "3           316               Jason Lizana                RM          Despacho  \n",
              "4  LO BARNECHEA              Tomas Schnapp                RM  Retiro en tienda  "
            ]
          },
          "execution_count": 8,
          "metadata": {},
          "output_type": "execute_result"
        }
      ],
      "source": [
        "# Reimportamos todo\n",
        "pedidos2 = pd.read_csv(\"Orders_OFICIAL.csv\", sep=\";\")\n",
        "details2 = pd.read_csv(\"ORDER_DETAIL_OFICIAL.csv\", sep=\";\")\n",
        "\n",
        "pedidos2 = pedidos2.drop(columns=\"Direccion 1\")\n",
        "pedidos2 = pedidos2.drop(columns=\"Direccion 2\")\n",
        "pedidos2 = pedidos2.drop(columns=\"RUT\")\n",
        "pedidos2 = pedidos2.drop(columns=\"Email\")\n",
        "pedidos2.head()"
      ]
    },
    {
      "cell_type": "markdown",
      "metadata": {},
      "source": [
        "También cargaremos los datos en R para trabajar con las reglas de asociación"
      ]
    },
    {
      "cell_type": "code",
      "execution_count": null,
      "metadata": {},
      "outputs": [],
      "source": [
        "%%R\n",
        "install.packages('arules')\n",
        "install.packages('arulesViz')"
      ]
    },
    {
      "cell_type": "markdown",
      "metadata": {
        "id": "iCTu7cQNoS8K"
      },
      "source": [
        "# ¿Cómo se relaciona el precio de la compra con el lugar desde donde se pidió?\n",
        "Esta era una pregunta planteada en el hito 1, la cual se pudo responder explorando datos"
      ]
    },
    {
      "cell_type": "code",
      "execution_count": 36,
      "metadata": {
        "colab": {
          "base_uri": "https://localhost:8080/",
          "height": 623
        },
        "id": "r7RqNlc-rgr4",
        "outputId": "42b9e310-27b8-41a0-ab0e-e0ca11a92329"
      },
      "outputs": [
        {
          "name": "stdout",
          "output_type": "stream",
          "text": [
            "Promedio Chonchi:  70290 Cantidad de pedidos: 7\n",
            "Promedio Santiago: 41776 Cantidad de pedidos: 4459\n",
            "Promedio Vitacura: 45062 Cantidad de pedidos: 1102\n",
            "Promedio Iquique:  49105 Cantidad de pedidos: 1249\n",
            "\n",
            "\n"
          ]
        },
        {
          "data": {
            "image/png": "[encoded data removed]",
            "text/plain": [
              "<Figure size 720x432 with 1 Axes>"
            ]
          },
          "metadata": {
            "needs_background": "light"
          },
          "output_type": "display_data"
        }
      ],
      "source": [
        "import matplotlib.pyplot as plt\n",
        "from matplotlib.pyplot import figure\n",
        "\n",
        "# Comunas\n",
        "\n",
        "comunas = pedidos2['Comuna'].unique()\n",
        "# print(comunas) -> Algunas son numeros\n",
        "\n",
        "promedios = []\n",
        "for comuna in comunas:\n",
        "  promedios.append(pedidos2[pedidos2['Comuna'] == comuna]['Precio Pedido'].mean())\n",
        "\n",
        "\n",
        "\n",
        "# Promedio de precios de pedido por comuna\n",
        "print(\"Promedio Chonchi: \",round(pedidos2[pedidos2['Comuna'] == 'CHONCHI']['Precio Pedido'].mean()),\"Cantidad de pedidos:\", len(pedidos2[pedidos2['Comuna'] == 'CHONCHI']['Precio Pedido']))\n",
        "print(\"Promedio Santiago:\",round(pedidos2[pedidos2['Comuna'] == 'SANTIAGO']['Precio Pedido'].mean()),\"Cantidad de pedidos:\", len(pedidos2[pedidos2['Comuna'] == 'SANTIAGO']['Precio Pedido']))\n",
        "print(\"Promedio Vitacura:\",round(pedidos2[pedidos2['Comuna'] == 'VITACURA']['Precio Pedido'].mean()),\"Cantidad de pedidos:\", len(pedidos2[pedidos2['Comuna'] == 'VITACURA']['Precio Pedido']))\n",
        "print(\"Promedio Iquique: \",round(pedidos2[pedidos2['Comuna'] == 'IQUIQUE']['Precio Pedido'].mean()),\"Cantidad de pedidos:\", len(pedidos2[pedidos2['Comuna'] == 'IQUIQUE']['Precio Pedido']))\n",
        "\n",
        "print(\"\\n\")\n",
        "\n",
        "zip_iterator = zip(comunas, promedios)\n",
        "diccionario = list(zip_iterator)\n",
        "diccionario = sorted(diccionario, key=lambda cantidad:cantidad[1], reverse=True)\n",
        "\n",
        "comunas_final = []\n",
        "prom_final = []\n",
        "for elem in diccionario:\n",
        "  if not elem[0].isnumeric():\n",
        "    comunas_final.append(elem[0])\n",
        "    prom_final.append(elem[1])\n",
        "\n",
        "#print(comunas_final)\n",
        "plt.figure(figsize=(10,6))\n",
        "plt.scatter(comunas_final, prom_final)\n",
        "plt.xlim(-0.5, 20.5)\n",
        "plt.xticks(rotation=90)\n",
        "plt.title(\"Promedios de pedidos por comuna (descendente)\")\n",
        "plt.xlabel(\"Comuna\")\n",
        "plt.ylabel(\"Monto promedio [$]\")\n",
        "plt.show()\n",
        "\n"
      ]
    },
    {
      "cell_type": "markdown",
      "metadata": {
        "id": "OSjvyN9GKuMn"
      },
      "source": [
        "# Preguntas y problemas\n",
        "\n",
        "Dada la exploración anterior y su motivación original, formular preguntas que se pueden responder mediante la minería de datos y que se puedan vincular a la problemática planteada en la motivación\n",
        "\n",
        "\n",
        "1. **¿Qué marcas se compran juntas? (En un mismo pedido)**\n",
        "2. **¿Existe una tendencia, segun las caracteristicas del comprador, en la segunda compra con respecto a la primera?**\n",
        "3. **¿Qué tipo de producto puede que compre alguien que ya adquirió x tipo de producto?** \n",
        "4. **Comportamiento de clientes con respecto a la cantidad de compras y su monto total.** \n",
        "\n",
        "\n",
        "\n",
        "\n"
      ]
    },
    {
      "cell_type": "markdown",
      "metadata": {
        "id": "vBaQd-GkrmCj"
      },
      "source": [
        "# Pregunta 1\n",
        "Para responder a esta pregunta se realizarán los siguientes pasos:\n",
        "- Utilizaremos Reglas de Asociación, basándose en el problema de la canasta.\n",
        "- No se ha visto en clases, por lo que no tenemos definido los pasos a seguir.\n",
        "\n",
        "# Pregunta 2 \n",
        "Para responder a esta pregunta se realizarán los siguientes pasos usando clasificación:\n",
        "\n",
        "-Primero se filtrará la información de la tabla, se rescatarán las características más relevantes: comuna, mes de compra, marca y total gastado cliente. \n",
        "\n",
        "- Luego se procederá a separar el dataset en 2 conjuntos: Training y testing  para entretar los clasificadores. Le ocultaremos los productos de la 2da compra.Utilizaremos el Decision Tree y el Support Vector Machine. \n",
        "\n",
        "- Finalmente una vez entrenado los datos se utilizarán parámetros de accuracy, Recall, precision y f1 para determinar qué tan bueno fue el desempeño del clasificador y ver si pudo efectivamente predecir la pregunta en cuestión.\n",
        "\n",
        "# Pregunta 3\n",
        "- De forma análoga a la pregunta 1 Utilizaremos Reglas de Asociación, basándose en el problema de la canasta.\n",
        "\n",
        "- Generar una nueva columna  con el tipo de producto (por ejemplo: polera, zapatillas, jockey, entre otros). Para lograrlo, se extraerá la primera palabra del nombre del producto desde la tabla *order_detail* (por ejemplo: \"Zapatilla Adidas 3Mc Mujer - BURDEO / 7.5\" corresponde a una zapatilla).\n",
        "\n",
        "- No se ha visto en clases, por lo que no tenemos definido los pasos a seguir.\n",
        "\n",
        "\n",
        "# Problema 4\n",
        "\n",
        "Para responder a esta pregunta se utilizarán herramientas de clustering y se  seguirán los siguientes pasos:\n",
        "- Crear una tabla que por cada cliente, tenga su cantidad de pedidos totales hechos en la página y cuanto fue el gasto entre todos esos pedidos.\n",
        "\n",
        "*K-means:*\n",
        "- Debemos definir el número de clusters que queremos generar.Esto lo hacemos implementando el método del codo.\n",
        "- Luego se implementaran K-mean segun la cantidad de clusters predicha anteriormente.\n",
        "\n",
        "*DBSCAN:*\n",
        "- Se debe estimar el valor óptimo de *eps* usando el método de la rodilla (basado en KNN).\n",
        "- Luego se ejecuta y grafica los clusters usando el método DBSCAN haciendo uso de parámetro *eps(y)* encontrado previamente.\n",
        "\n",
        "Finalmente usaremos el coeficiente de Silhouette para evaluar los clusters.\n",
        "\n",
        "\n"
      ]
    },
    {
      "cell_type": "markdown",
      "metadata": {},
      "source": [
        "## Pregunta 1"
      ]
    },
    {
      "cell_type": "code",
      "execution_count": 6,
      "metadata": {},
      "outputs": [
        {
          "data": {
            "text/html": [
              "<div>\n",
              "<style scoped>\n",
              "    .dataframe tbody tr th:only-of-type {\n",
              "        vertical-align: middle;\n",
              "    }\n",
              "\n",
              "    .dataframe tbody tr th {\n",
              "        vertical-align: top;\n",
              "    }\n",
              "\n",
              "    .dataframe thead th {\n",
              "        text-align: right;\n",
              "    }\n",
              "</style>\n",
              "<table border=\"1\" class=\"dataframe\">\n",
              "  <thead>\n",
              "    <tr style=\"text-align: right;\">\n",
              "      <th></th>\n",
              "      <th>id</th>\n",
              "      <th>Numero Pedido</th>\n",
              "      <th>Fecha Pedido</th>\n",
              "      <th>Nombre Producto</th>\n",
              "      <th>SKU</th>\n",
              "      <th>Cantidad</th>\n",
              "      <th>Precio Producto</th>\n",
              "      <th>Precio Total Productos</th>\n",
              "      <th>Marca</th>\n",
              "      <th>Tipo Producto</th>\n",
              "    </tr>\n",
              "  </thead>\n",
              "  <tbody>\n",
              "    <tr>\n",
              "      <th>0</th>\n",
              "      <td>1,12E+12</td>\n",
              "      <td>#1002</td>\n",
              "      <td>04-07-2019</td>\n",
              "      <td>Beanie Adidas Trefoil Accesorios - No Color / ...</td>\n",
              "      <td>DV2486-OSFM</td>\n",
              "      <td>1</td>\n",
              "      <td>17990</td>\n",
              "      <td>17990</td>\n",
              "      <td>ADIDAS</td>\n",
              "      <td>Beanie</td>\n",
              "    </tr>\n",
              "    <tr>\n",
              "      <th>1</th>\n",
              "      <td>1,12E+12</td>\n",
              "      <td>#1003</td>\n",
              "      <td>04-07-2019</td>\n",
              "      <td>Jockey Dc Cap Star 2 Hombre - Verde / L-XL</td>\n",
              "      <td>55300096GRA0-LXL</td>\n",
              "      <td>2</td>\n",
              "      <td>17990</td>\n",
              "      <td>35980</td>\n",
              "      <td>DC</td>\n",
              "      <td>Jockey</td>\n",
              "    </tr>\n",
              "    <tr>\n",
              "      <th>2</th>\n",
              "      <td>1,12E+12</td>\n",
              "      <td>#1003</td>\n",
              "      <td>04-07-2019</td>\n",
              "      <td>Zapatilla Adidas 3Mc Hombre - BURDEO / 8</td>\n",
              "      <td>DB3092-080</td>\n",
              "      <td>1</td>\n",
              "      <td>34990</td>\n",
              "      <td>34990</td>\n",
              "      <td>ADIDAS</td>\n",
              "      <td>Zapatilla</td>\n",
              "    </tr>\n",
              "  </tbody>\n",
              "</table>\n",
              "</div>"
            ],
            "text/plain": [
              "         id Numero Pedido Fecha Pedido  \\\n",
              "0  1,12E+12         #1002   04-07-2019   \n",
              "1  1,12E+12         #1003   04-07-2019   \n",
              "2  1,12E+12         #1003   04-07-2019   \n",
              "\n",
              "                                     Nombre Producto               SKU  \\\n",
              "0  Beanie Adidas Trefoil Accesorios - No Color / ...       DV2486-OSFM   \n",
              "1         Jockey Dc Cap Star 2 Hombre - Verde / L-XL  55300096GRA0-LXL   \n",
              "2           Zapatilla Adidas 3Mc Hombre - BURDEO / 8        DB3092-080   \n",
              "\n",
              "   Cantidad  Precio Producto  Precio Total Productos   Marca Tipo Producto  \n",
              "0         1            17990                   17990  ADIDAS        Beanie  \n",
              "1         2            17990                   35980      DC        Jockey  \n",
              "2         1            34990                   34990  ADIDAS     Zapatilla  "
            ]
          },
          "execution_count": 6,
          "metadata": {},
          "output_type": "execute_result"
        }
      ],
      "source": [
        "from mlxtend.frequent_patterns import apriori\n",
        "\n",
        "details = pd.read_csv(\"ORDER_DETAIL_OFICIAL2.csv\", sep=\";\")\n",
        "details.head(3)"
      ]
    },
    {
      "cell_type": "code",
      "execution_count": 47,
      "metadata": {},
      "outputs": [],
      "source": [
        "# \n",
        "details2 = details.copy()\n",
        "\n",
        "for i in details2.index:\n",
        "    cantidad = details2[\"Cantidad\"][i]\n",
        "    if cantidad!=1:\n",
        "        for n in range(cantidad-1):\n",
        "            details2=details2.append({\"id\" : details2[\"id\"][i],\n",
        "                                    \"Numero Pedido\" : details2[\"Numero Pedido\"][i],\n",
        "                                    \"Fecha Pedido\" : details2[\"Fecha Pedido\"][i],\n",
        "                                    \"Nombre Producto\" : details2[\"Nombre Producto\"][i],\n",
        "                                    \"SKU\" : details2[\"SKU\"][i],\n",
        "                                    \"Cantidad\" : 1,\n",
        "                                    \"Precio Producto\" : details2[\"Precio Producto\"][i],\n",
        "                                    \"Precio Total Productos\" : details2[\"Precio Total Productos\"][i],\n",
        "                                    \"Marca\" : details2[\"Marca\"][i],\n",
        "                                    \"Tipo Producto\" : details2[\"Tipo Producto\"][i]}, ignore_index=True)  \n",
        "\n",
        "details2=details2.drop(columns=\"Cantidad\")"
      ]
    },
    {
      "cell_type": "code",
      "execution_count": 12,
      "metadata": {},
      "outputs": [
        {
          "data": {
            "text/html": [
              "<div>\n",
              "<style scoped>\n",
              "    .dataframe tbody tr th:only-of-type {\n",
              "        vertical-align: middle;\n",
              "    }\n",
              "\n",
              "    .dataframe tbody tr th {\n",
              "        vertical-align: top;\n",
              "    }\n",
              "\n",
              "    .dataframe thead th {\n",
              "        text-align: right;\n",
              "    }\n",
              "</style>\n",
              "<table border=\"1\" class=\"dataframe\">\n",
              "  <thead>\n",
              "    <tr style=\"text-align: right;\">\n",
              "      <th></th>\n",
              "      <th>Beanie</th>\n",
              "    </tr>\n",
              "  </thead>\n",
              "  <tbody>\n",
              "    <tr>\n",
              "      <th>0</th>\n",
              "      <td>Jockey;\"Zapatilla\";\"Jockey\"</td>\n",
              "    </tr>\n",
              "    <tr>\n",
              "      <th>1</th>\n",
              "      <td>Zapatilla</td>\n",
              "    </tr>\n",
              "    <tr>\n",
              "      <th>2</th>\n",
              "      <td>Zapatilla</td>\n",
              "    </tr>\n",
              "    <tr>\n",
              "      <th>3</th>\n",
              "      <td>Zapatilla;\"Zapatilla\";\"Zapatilla\"</td>\n",
              "    </tr>\n",
              "    <tr>\n",
              "      <th>4</th>\n",
              "      <td>Zapatilla</td>\n",
              "    </tr>\n",
              "  </tbody>\n",
              "</table>\n",
              "</div>"
            ],
            "text/plain": [
              "                              Beanie\n",
              "0        Jockey;\"Zapatilla\";\"Jockey\"\n",
              "1                          Zapatilla\n",
              "2                          Zapatilla\n",
              "3  Zapatilla;\"Zapatilla\";\"Zapatilla\"\n",
              "4                          Zapatilla"
            ]
          },
          "execution_count": 12,
          "metadata": {},
          "output_type": "execute_result"
        }
      ],
      "source": [
        "# Creamos las canastas\n",
        "canastas = pd.read_csv(\"canastas.csv\")\n",
        "canastas.head()"
      ]
    },
    {
      "cell_type": "code",
      "execution_count": 1,
      "metadata": {},
      "outputs": [
        {
          "name": "stderr",
          "output_type": "stream",
          "text": [
            "C:\\Users\\Cherry\\anaconda3\\lib\\site-packages\\rpy2\\robjects\\packages.py:366: UserWarning: The symbol 'quartz' is not in this R namespace/package.\n",
            "  warnings.warn(\n"
          ]
        }
      ],
      "source": [
        "# Activate R magic:\n",
        "%load_ext rpy2.ipython"
      ]
    },
    {
      "cell_type": "code",
      "execution_count": 2,
      "metadata": {},
      "outputs": [
        {
          "name": "stderr",
          "output_type": "stream",
          "text": [
            "R[write to console]: Loading required package: Matrix\n",
            "\n",
            "R[write to console]: \n",
            "Attaching package: 'arules'\n",
            "\n",
            "\n",
            "R[write to console]: The following objects are masked from 'package:base':\n",
            "\n",
            "    abbreviate, write\n",
            "\n",
            "\n"
          ]
        }
      ],
      "source": [
        "%%R\n",
        "library('arules')  # cargamos arules"
      ]
    },
    {
      "cell_type": "code",
      "execution_count": 6,
      "metadata": {},
      "outputs": [],
      "source": [
        "%%R\n",
        "canastas <- read.transactions(\"canastas.csv\", sep=\";\")"
      ]
    },
    {
      "cell_type": "code",
      "execution_count": 23,
      "metadata": {},
      "outputs": [
        {
          "name": "stdout",
          "output_type": "stream",
          "text": [
            "Eclat\n",
            "\n",
            "parameter specification:\n",
            " tidLists support minlen maxlen            target  ext\n",
            "    FALSE   1e-06      1     10 frequent itemsets TRUE\n",
            "\n",
            "algorithmic control:\n",
            " sparse sort verbose\n",
            "      7   -2    TRUE\n",
            "\n",
            "Absolute minimum support count: 0 \n",
            "\n",
            "create itemset ... \n",
            "set transactions ...[65 item(s), 104962 transaction(s)] done [0.01s].\n",
            "sorting and recoding items ... [65 item(s)] done [0.00s].\n",
            "creating sparse bit matrix ... [65 row(s), 104962 column(s)] done [0.01s].\n",
            "writing  ... [1393 set(s)] done [0.01s].\n",
            "Creating S4 object  ... done [0.00s].\n"
          ]
        }
      ],
      "source": [
        "%%R\n",
        "frequentItems <- eclat(canastas, parameter = list(supp = 0.000001, maxlen = 10))"
      ]
    },
    {
      "cell_type": "code",
      "execution_count": 29,
      "metadata": {},
      "outputs": [
        {
          "name": "stdout",
          "output_type": "stream",
          "text": [
            "     items                   support    count\n",
            "[1]  {Zapatilla VANS}        0.21689754 22766\n",
            "[2]  {Zapatilla CONVERSE}    0.19940550 20930\n",
            "[3]  {Zapatilla SUPRA}       0.11890017 12480\n",
            "[4]  {Jockey}                0.09339571  9803\n",
            "[5]  {Zapatilla DC}          0.07225472  7584\n",
            "[6]  {Zapatilla ADIDAS}      0.06900593  7243\n",
            "[7]  {Zapatilla NEW BALANCE} 0.06013605  6312\n",
            "[8]  {Zapatilla REEBOK}      0.05056116  5307\n",
            "[9]  {Zapatilla PUMA}        0.03681332  3864\n",
            "[10] {Beanie}                0.02898192  3042\n"
          ]
        }
      ],
      "source": [
        "%%R\n",
        "items.sorted <- sort(frequentItems, by=\"support\")\n",
        "# inspect(items.sorted[0:10])"
      ]
    },
    {
      "cell_type": "code",
      "execution_count": 30,
      "metadata": {},
      "outputs": [
        {
          "data": {
            "image/png": "[encoded data removed]"
          },
          "metadata": {},
          "output_type": "display_data"
        }
      ],
      "source": [
        "%%R\n",
        "itemFrequencyPlot(canastas, topN=10, type=\"absolute\", main=\"Item Frequency\")"
      ]
    },
    {
      "cell_type": "code",
      "execution_count": null,
      "metadata": {},
      "outputs": [],
      "source": [
        "%%R\n",
        "rules <- apriori(canastas, parameter=list(support=0.00001, confidence=0.3))"
      ]
    },
    {
      "cell_type": "code",
      "execution_count": 35,
      "metadata": {},
      "outputs": [
        {
          "name": "stdout",
          "output_type": "stream",
          "text": [
            "    lhs                 rhs        support     confidence coverage     lift    \n",
            "[1]"
          ]
        },
        {
          "name": "stderr",
          "output_type": "stream",
          "text": [
            "From cffi callback <function _consolewrite_ex at 0x000002548AD51D30>:\n",
            "Traceback (most recent call last):\n",
            "  File \"C:\\Users\\Cherry\\anaconda3\\lib\\site-packages\\rpy2\\rinterface_lib\\callbacks.py\", line 132, in _consolewrite_ex\n",
            "    s = conversion._cchar_to_str_with_maxlen(buf, n, _CCHAR_ENCODING)\n",
            "  File \"C:\\Users\\Cherry\\anaconda3\\lib\\site-packages\\rpy2\\rinterface_lib\\conversion.py\", line 133, in _cchar_to_str_with_maxlen\n",
            "    s = ffi.string(c, maxlen).decode(encoding)\n",
            "UnicodeDecodeError: 'utf-8' codec can't decode byte 0xe1 in position 4: invalid continuation byte\n"
          ]
        },
        {
          "name": "stdout",
          "output_type": "stream",
          "text": [
            " => {Converse} 6.66908e-05 0.8750000  7.621806e-05 7653.479\n",
            "[2] {Converse}       =>"
          ]
        },
        {
          "name": "stderr",
          "output_type": "stream",
          "text": [
            "From cffi callback <function _consolewrite_ex at 0x000002548AD51D30>:\n",
            "Traceback (most recent call last):\n",
            "  File \"C:\\Users\\Cherry\\anaconda3\\lib\\site-packages\\rpy2\\rinterface_lib\\callbacks.py\", line 132, in _consolewrite_ex\n",
            "    s = conversion._cchar_to_str_with_maxlen(buf, n, _CCHAR_ENCODING)\n",
            "  File \"C:\\Users\\Cherry\\anaconda3\\lib\\site-packages\\rpy2\\rinterface_lib\\conversion.py\", line 133, in _cchar_to_str_with_maxlen\n",
            "    s = ffi.string(c, maxlen).decode(encoding)\n",
            "UnicodeDecodeError: 'utf-8' codec can't decode byte 0xe1 in position 4: invalid continuation byte\n"
          ]
        },
        {
          "name": "stdout",
          "output_type": "stream",
          "text": [
            " 6.66908e-05 0.5833333  1.143271e-04 7653.479\n",
            "[3]"
          ]
        },
        {
          "name": "stderr",
          "output_type": "stream",
          "text": [
            "From cffi callback <function _consolewrite_ex at 0x000002548AD51D30>:\n",
            "Traceback (most recent call last):\n",
            "  File \"C:\\Users\\Cherry\\anaconda3\\lib\\site-packages\\rpy2\\rinterface_lib\\callbacks.py\", line 132, in _consolewrite_ex\n",
            "    s = conversion._cchar_to_str_with_maxlen(buf, n, _CCHAR_ENCODING)\n",
            "  File \"C:\\Users\\Cherry\\anaconda3\\lib\\site-packages\\rpy2\\rinterface_lib\\conversion.py\", line 133, in _cchar_to_str_with_maxlen\n",
            "    s = ffi.string(c, maxlen).decode(encoding)\n",
            "UnicodeDecodeError: 'utf-8' codec can't decode byte 0xe1 in position 4: invalid continuation byte\n"
          ]
        },
        {
          "name": "stdout",
          "output_type": "stream",
          "text": [
            " => {Converse} 6.66908e-05 0.8750000  7.621806e-05 7653.479\n",
            "    count\n",
            "[1] 7    \n",
            "[2] 7    \n",
            "[3] 7    \n"
          ]
        }
      ],
      "source": [
        "%%R\n",
        "rules.sorted <- sort(rules, by=\"lift\")\n",
        "rules.sorted.first3 <- head(rules.sorted, 3)\n",
        "inspect(rules.sorted.first3)"
      ]
    },
    {
      "cell_type": "markdown",
      "metadata": {
        "id": "yWnInm0KHizY"
      },
      "source": [
        "## Pregunta 4"
      ]
    },
    {
      "cell_type": "code",
      "execution_count": null,
      "metadata": {
        "id": "yEG8F-66AFl8"
      },
      "outputs": [],
      "source": [
        "from sklearn.cluster import KMeans\n",
        "from sklearn import datasets\n",
        "import matplotlib.pyplot as plt\n",
        "import numpy as np\n",
        "from sklearn.neighbors import NearestNeighbors\n",
        "from sklearn.cluster import DBSCAN\n",
        "from sklearn.metrics import silhouette_score"
      ]
    },
    {
      "cell_type": "markdown",
      "metadata": {
        "id": "ZTK-UWQe_PBq"
      },
      "source": [
        "Se crea una tabla con lo cantidad de pedidos y lo total gastado por cada cliente."
      ]
    },
    {
      "cell_type": "code",
      "execution_count": null,
      "metadata": {
        "colab": {
          "base_uri": "https://localhost:8080/",
          "height": 237
        },
        "id": "gJefSrSSJKA8",
        "outputId": "68ff3666-003e-451c-eb2f-1572d6d1d39a"
      },
      "outputs": [
        {
          "name": "stdout",
          "output_type": "stream",
          "text": [
            "Numero de filas con clientes repetidos: 314760\n",
            "Numero de filas luego de quitar clientes repetidos: 256215\n"
          ]
        },
        {
          "data": {
            "text/html": [
              "<div>\n",
              "<style scoped>\n",
              "    .dataframe tbody tr th:only-of-type {\n",
              "        vertical-align: middle;\n",
              "    }\n",
              "\n",
              "    .dataframe tbody tr th {\n",
              "        vertical-align: top;\n",
              "    }\n",
              "\n",
              "    .dataframe thead th {\n",
              "        text-align: right;\n",
              "    }\n",
              "</style>\n",
              "<table border=\"1\" class=\"dataframe\">\n",
              "  <thead>\n",
              "    <tr style=\"text-align: right;\">\n",
              "      <th></th>\n",
              "      <th>Cantidad Pedidos Cliente</th>\n",
              "      <th>Total Gastado Cliente</th>\n",
              "    </tr>\n",
              "  </thead>\n",
              "  <tbody>\n",
              "    <tr>\n",
              "      <th>0</th>\n",
              "      <td>13.0</td>\n",
              "      <td>444337.0</td>\n",
              "    </tr>\n",
              "    <tr>\n",
              "      <th>1</th>\n",
              "      <td>1.0</td>\n",
              "      <td>37419.0</td>\n",
              "    </tr>\n",
              "    <tr>\n",
              "      <th>2</th>\n",
              "      <td>1.0</td>\n",
              "      <td>40419.0</td>\n",
              "    </tr>\n",
              "    <tr>\n",
              "      <th>3</th>\n",
              "      <td>1.0</td>\n",
              "      <td>12329.0</td>\n",
              "    </tr>\n",
              "    <tr>\n",
              "      <th>4</th>\n",
              "      <td>14.0</td>\n",
              "      <td>656793.0</td>\n",
              "    </tr>\n",
              "  </tbody>\n",
              "</table>\n",
              "</div>"
            ],
            "text/plain": [
              "   Cantidad Pedidos Cliente  Total Gastado Cliente\n",
              "0                      13.0               444337.0\n",
              "1                       1.0                37419.0\n",
              "2                       1.0                40419.0\n",
              "3                       1.0                12329.0\n",
              "4                      14.0               656793.0"
            ]
          },
          "execution_count": 52,
          "metadata": {},
          "output_type": "execute_result"
        }
      ],
      "source": [
        "# crear tabla a partir de la otra\n",
        "pedidos3 = pedidos2[['ID Cliente', 'Cantidad Pedidos Cliente', 'Total Gastado Cliente']].copy()\n",
        "print(\"Numero de filas con clientes repetidos:\",pedidos3.size)\n",
        "pedidos3 = pedidos3.drop_duplicates(subset = ['ID Cliente'])\n",
        "print(\"Numero de filas luego de quitar clientes repetidos:\",pedidos3.size)\n",
        "pedidos3 = pedidos3.drop(['ID Cliente'], axis=1)\n",
        "pedidos3.head()"
      ]
    },
    {
      "cell_type": "markdown",
      "metadata": {
        "id": "3exm7Ixx_u-j"
      },
      "source": [
        "Se crea un dataframe con el cual se trabajará en los clusters."
      ]
    },
    {
      "cell_type": "code",
      "execution_count": null,
      "metadata": {
        "colab": {
          "base_uri": "https://localhost:8080/"
        },
        "id": "giNnpRFhHnqo",
        "outputId": "b3322517-7ad4-4de2-ccd6-91e0d4590a87"
      },
      "outputs": [
        {
          "data": {
            "text/plain": [
              "array([[1.30000e+01, 4.44337e+05],\n",
              "       [1.00000e+00, 3.74190e+04],\n",
              "       [1.00000e+00, 4.04190e+04],\n",
              "       ...,\n",
              "       [1.00000e+00, 5.49800e+04],\n",
              "       [1.00000e+00, 5.39800e+04],\n",
              "       [1.00000e+00, 5.99800e+04]])"
            ]
          },
          "execution_count": 53,
          "metadata": {},
          "output_type": "execute_result"
        }
      ],
      "source": [
        "X = pd.DataFrame(pedidos3).to_numpy()\n",
        "X"
      ]
    },
    {
      "cell_type": "markdown",
      "metadata": {
        "id": "ZXjNFjOyAmxJ"
      },
      "source": [
        "**K-means:**"
      ]
    },
    {
      "cell_type": "markdown",
      "metadata": {
        "id": "Hv54QXxTAKd_"
      },
      "source": [
        "Se utiliza el metodo del codo entre 1 y 10 clusters para definir la cantidad de clusters que se utilizarán luego."
      ]
    },
    {
      "cell_type": "code",
      "execution_count": null,
      "metadata": {
        "colab": {
          "base_uri": "https://localhost:8080/",
          "height": 281
        },
        "id": "apFBSTNTNLvu",
        "outputId": "2205e48e-f59e-41da-8264-1e143616eb3f"
      },
      "outputs": [
        {
          "data": {
            "image/png": "[encoded data removed]",
            "text/plain": [
              "<Figure size 432x288 with 1 Axes>"
            ]
          },
          "metadata": {
            "needs_background": "light"
          },
          "output_type": "display_data"
        }
      ],
      "source": [
        "sse = []\n",
        "\n",
        "clusters = list(range(1, 10))\n",
        "for k in clusters:\n",
        "    kmeans = KMeans(n_clusters=k).fit(X)\n",
        "    sse.append(kmeans.inertia_)\n",
        "\n",
        "plt.plot(clusters, sse, marker=\"o\")\n",
        "plt.title(\"Metodo del codo de 1 a 10 clusters\")\n",
        "plt.grid(True)\n",
        "plt.show()"
      ]
    },
    {
      "cell_type": "markdown",
      "metadata": {
        "id": "HaCppJnUAf3c"
      },
      "source": [
        "Se grafican los clusters."
      ]
    },
    {
      "cell_type": "code",
      "execution_count": null,
      "metadata": {
        "colab": {
          "base_uri": "https://localhost:8080/",
          "height": 295
        },
        "id": "zTxciIJTNSUc",
        "outputId": "438a9bb4-df89-4e2a-ebf4-86b76c87e592"
      },
      "outputs": [
        {
          "data": {
            "image/png": "[encoded data removed]",
            "text/plain": [
              "<Figure size 432x288 with 1 Axes>"
            ]
          },
          "metadata": {
            "needs_background": "light"
          },
          "output_type": "display_data"
        }
      ],
      "source": [
        "kmeans3 = KMeans(n_clusters=3, random_state=100).fit(X)\n",
        "\n",
        "plt.scatter(X[:, 0], X[:, 1], c=kmeans3.labels_)\n",
        "plt.title(\"K-Means\")\n",
        "plt.ylabel(\"Monto Gastado\")\n",
        "plt.xlabel(\"Cantidad de pedidos\")\n",
        "plt.show()"
      ]
    },
    {
      "cell_type": "markdown",
      "metadata": {
        "id": "HnpJK8eWAsHc"
      },
      "source": [
        "**DBSCAN:**"
      ]
    },
    {
      "cell_type": "markdown",
      "metadata": {
        "id": "7HSp7VFYA0zx"
      },
      "source": [
        "Se utiliza el metodo de la rodilla para estimar el valor optimo del eps. Como no se encuentra un punto de infleccion claro, se eligen algunos valores donde la curva sube."
      ]
    },
    {
      "cell_type": "code",
      "execution_count": null,
      "metadata": {
        "colab": {
          "base_uri": "https://localhost:8080/",
          "height": 286
        },
        "id": "vbjod6u9W6YZ",
        "outputId": "555a493b-5b42-436a-c33c-ecb60e04f279"
      },
      "outputs": [
        {
          "data": {
            "text/plain": [
              "[<matplotlib.lines.Line2D at 0x7f8944325a10>]"
            ]
          },
          "execution_count": 57,
          "metadata": {},
          "output_type": "execute_result"
        },
        {
          "data": {
            "image/png": "[encoded data removed]",
            "text/plain": [
              "<Figure size 432x288 with 1 Axes>"
            ]
          },
          "metadata": {
            "needs_background": "light"
          },
          "output_type": "display_data"
        }
      ],
      "source": [
        "nbrs = NearestNeighbors(n_neighbors=3).fit(X)\n",
        "distances, indices = nbrs.kneighbors(X)\n",
        "\n",
        "distances = np.sort(distances, axis=0)\n",
        "distances = distances[:,1]\n",
        "plt.axhline(y=0.1, color='r', linestyle='--') #Ajuste el valor para \"y\" en esta línea\n",
        "plt.axhline(y=0.9, color='orange', linestyle='--') #Ajuste el valor para \"y\" en esta línea\n",
        "plt.axhline(y=4, color='g', linestyle='--') #Ajuste el valor para \"y\" en esta línea\n",
        "plt.ylim(0, 5)\n",
        "plt.plot(distances)"
      ]
    },
    {
      "cell_type": "markdown",
      "metadata": {
        "id": "M8Lk0tCNBRDt"
      },
      "source": [
        "Se grafican los clusters con distintos valores de eps=0.1"
      ]
    },
    {
      "cell_type": "code",
      "execution_count": null,
      "metadata": {
        "colab": {
          "base_uri": "https://localhost:8080/",
          "height": 281
        },
        "id": "YbK1bZ4iW9mB",
        "outputId": "e03b7592-f865-453e-cf84-5dc75a0f8596"
      },
      "outputs": [
        {
          "data": {
            "image/png": "[encoded data removed]",
            "text/plain": [
              "<Figure size 432x288 with 1 Axes>"
            ]
          },
          "metadata": {
            "needs_background": "light"
          },
          "output_type": "display_data"
        }
      ],
      "source": [
        "eps = 0.1\n",
        "min_samples = 3\n",
        "\n",
        "dbscan01 = DBSCAN(eps=eps, min_samples=min_samples).fit(X)\n",
        "plt.scatter(X[:,0], X[:,1], c=dbscan01.labels_)\n",
        "plt.title(f\"DBSCAN: eps={eps}, min_samples={min_samples}\")\n",
        "#plt.ylim(0, 10000)\n",
        "plt.show()"
      ]
    },
    {
      "cell_type": "markdown",
      "metadata": {
        "id": "-AsXn27-BqJy"
      },
      "source": [
        "Se grafican los clusters con distintos valores de eps=0.9"
      ]
    },
    {
      "cell_type": "code",
      "execution_count": null,
      "metadata": {
        "colab": {
          "base_uri": "https://localhost:8080/",
          "height": 281
        },
        "id": "SyC3RSBjguam",
        "outputId": "a49c5d37-ce07-4296-9e13-b2a21d5bddc2"
      },
      "outputs": [
        {
          "data": {
            "image/png": "[encoded data removed]",
            "text/plain": [
              "<Figure size 432x288 with 1 Axes>"
            ]
          },
          "metadata": {
            "needs_background": "light"
          },
          "output_type": "display_data"
        }
      ],
      "source": [
        "eps = 0.9\n",
        "min_samples = 3\n",
        "\n",
        "dbscan09 = DBSCAN(eps=eps, min_samples=min_samples).fit(X)\n",
        "plt.scatter(X[:,0], X[:,1], c=dbscan09.labels_)\n",
        "plt.title(f\"DBSCAN: eps={eps}, min_samples={min_samples}\")\n",
        "plt.show()"
      ]
    },
    {
      "cell_type": "markdown",
      "metadata": {
        "id": "9gvR7wMoBskk"
      },
      "source": [
        "Se grafican los clusters con distintos valores de eps=4"
      ]
    },
    {
      "cell_type": "code",
      "execution_count": null,
      "metadata": {
        "colab": {
          "base_uri": "https://localhost:8080/",
          "height": 281
        },
        "id": "59Z3MC9IeAdj",
        "outputId": "33c43e3c-6a88-4898-ab7c-b3fbb76d5c97"
      },
      "outputs": [
        {
          "data": {
            "image/png": "[encoded data removed]",
            "text/plain": [
              "<Figure size 432x288 with 1 Axes>"
            ]
          },
          "metadata": {
            "needs_background": "light"
          },
          "output_type": "display_data"
        }
      ],
      "source": [
        "eps = 4\n",
        "min_samples = 3\n",
        "\n",
        "dbscan4 = DBSCAN(eps=eps, min_samples=min_samples).fit(X)\n",
        "plt.scatter(X[:,0], X[:,1], c=dbscan4.labels_)\n",
        "plt.title(f\"DBSCAN: eps={eps}, min_samples={min_samples}\")\n",
        "plt.show()"
      ]
    },
    {
      "cell_type": "markdown",
      "metadata": {
        "id": "ctFde2ORBvbX"
      },
      "source": [
        "Finalmente se evalúan los clusters hechos utilizando el coeficiente de Silhouette."
      ]
    },
    {
      "cell_type": "code",
      "execution_count": null,
      "metadata": {
        "colab": {
          "base_uri": "https://localhost:8080/"
        },
        "id": "XntEV0uyhLz3",
        "outputId": "4c666a45-42eb-449e-8813-79baf6a8a3de"
      },
      "outputs": [
        {
          "name": "stdout",
          "output_type": "stream",
          "text": [
            "Dataset X K-Means 3\t 0.7373938413072239\n",
            "Dataset X DBSCAN 0.1 \t 1.0\n",
            "Dataset X DBSCAN 0.9 \t 1.0\n",
            "Dataset X DBSCAN 4 \t 0.9288472444735113\n"
          ]
        }
      ],
      "source": [
        "print(\"Dataset X K-Means 3\\t\", silhouette_score(X, kmeans3.labels_))\n",
        "\n",
        "# para DBSCAN tenermos que filtrar las labels negativas, ya que representan ruido, no otro cluster\n",
        "_filter_label = dbscan01.labels_ >= 0\n",
        "print(\"Dataset X DBSCAN 0.1 \\t\", silhouette_score(X[_filter_label], dbscan01.labels_[_filter_label]))\n",
        "\n",
        "_filter_label = dbscan09.labels_ >= 0\n",
        "print(\"Dataset X DBSCAN 0.9 \\t\", silhouette_score(X[_filter_label], dbscan09.labels_[_filter_label]))\n",
        "\n",
        "_filter_label = dbscan4.labels_ >= 0\n",
        "print(\"Dataset X DBSCAN 4 \\t\", silhouette_score(X[_filter_label], dbscan4.labels_[_filter_label]))\n"
      ]
    },
    {
      "cell_type": "markdown",
      "metadata": {
        "id": "9WQgluI_B-kh"
      },
      "source": [
        "Dado los coeficientes obtenidos tenemos que ver el coef. Silhouette ~ 1. Por lo tanto, los que tienen mejor resultado dentro de los 4 experimentos son el DBSCAN con *eps=0.1* y *eps=0.9* debido a que su valor es  1."
      ]
    },
    {
      "cell_type": "markdown",
      "metadata": {
        "id": "mmcPKv8MriGz"
      },
      "source": [
        "# Contribuciones\n",
        "\n",
        "**María Hernández:** Encargada de encontrar el dataset, mejorar introduccion, resultados preliminares. \n",
        "\n",
        "**Lung Pang:** Encargado de hacer el repositorio de GitHub y gráficos, reajuste de preguntas, resultados preliminares. \n",
        "\n",
        "**Cristóbal Saldías** Encargado del informe y su organización, anonimizar los datos, resultados preliminares. \n",
        "\n",
        "**Víctor Vidal** Encargado de hacer la presentación, mejoró exploración de datos, resultados preliminares. "
      ]
    }
  ],
  "metadata": {
    "colab": {
      "collapsed_sections": [],
      "machine_shape": "hm",
      "name": "Hito2Mineria.ipynb",
      "provenance": []
    },
    "kernelspec": {
      "display_name": "Python 3",
      "name": "python3"
    },
    "language_info": {
      "codemirror_mode": {
        "name": "ipython",
        "version": 3
      },
      "file_extension": ".py",
      "mimetype": "text/x-python",
      "name": "python",
      "nbconvert_exporter": "python",
      "pygments_lexer": "ipython3",
      "version": "3.8.8"
    }
  },
  "nbformat": 4,
  "nbformat_minor": 0
}
