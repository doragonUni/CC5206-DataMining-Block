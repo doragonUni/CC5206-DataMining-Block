{
  "cells": [
    {
      "cell_type": "code",
      "execution_count": null,
      "metadata": {
        "id": "U7_rg9ICBJ07"
      },
      "outputs": [],
      "source": [
        "# Activate R magic:\n",
        "%load_ext rpy2.ipython"
      ]
    },
    {
      "cell_type": "markdown",
      "metadata": {
        "id": "8f3InZcTD_lv"
      },
      "source": [
        "# 1.Introducción\n",
        "\n",
        "Las ventas online en Chile aumentaron 119% en la última semana de marzo de 2021, cuando comenzaron las cuarentenas en el país, [según la Cámara de Comercio de Santiago](https://forbescentroamerica.com/2020/04/23/el-efecto-de-covid-19-en-el-ecommerce/).\n",
        "\n",
        " Esto implicó un cambio en la estrategia de negocios de múltiples empresas a nivel nacional. Dada la imposibilidad de ir presencialmente a una tienda, gran cantidad de empresas a nivel nacional tuvieron que dejar de lado la clásica tienda comercial y se vieron obligados a potenciar su canal de ventas e-commerce.\n",
        "\n",
        " De esta forma, se busca entregar información personalizada a los clientes, vía e-mail, basado en los productos que este ha adquirido anteriormente. Con esto, también se busca tener más información sobre los clientes para futuros proyectos.\n",
        "\n",
        "**Blockstore** es una cadena de tiendas, ubicada en Chile, enfocada la venta de zapatillas, accesorios y vestuario de las mejores marcas urbanas.\n",
        "Dada la contingencia mundial de la pandemia y el estallido social del 2019, Block tuvo que adaptarse al canal de ventas online por lo que la necesidad de la aplicación de análisis de datos y en particular de minería de datos va en el contexto cambiante en el ámbito nacional, donde la crisis social, pandemia, mayor dinero circulante y un aumento explosivo en ventas online hacen necesario tener las mejores estrategias diferenciadas para cada cliente.\n",
        "\n",
        "Es por esto que decidimos estudiar el comportamiento de compra de los clientes a nivel nacional.\n",
        "Nos parece interesante estudiar estos datos para generar más ventas enfocando una estrategia de negocios diferenciada para cada grupo de clientes en específico de acuerdo a sus gustos.\n",
        "\n",
        "\n",
        "# 2.Exploración de Datos"
      ]
    },
    {
      "cell_type": "code",
      "execution_count": null,
      "metadata": {
        "colab": {
          "base_uri": "https://localhost:8080/"
        },
        "id": "euiH_tQ8DuVG",
        "outputId": "f221ebe5-ff3b-473b-f8e1-9bf7c68ddb57"
      },
      "outputs": [
        {
          "name": "stderr",
          "output_type": "stream",
          "text": [
            "R[write to console]: \n",
            "Attaching package: ‘dplyr’\n",
            "\n",
            "\n",
            "R[write to console]: The following objects are masked from ‘package:stats’:\n",
            "\n",
            "    filter, lag\n",
            "\n",
            "\n",
            "R[write to console]: The following objects are masked from ‘package:base’:\n",
            "\n",
            "    intersect, setdiff, setequal, union\n",
            "\n",
            "\n",
            "R[write to console]: ── Attaching packages ─────────────────────────────────────── tidyverse 1.3.1 ──\n",
            "\n",
            "R[write to console]: ✔ tibble  3.1.5     ✔ purrr   0.3.4\n",
            "✔ tidyr   1.1.4     ✔ stringr 1.4.0\n",
            "✔ readr   2.0.2     ✔ forcats 0.5.1\n",
            "\n",
            "R[write to console]: ── Conflicts ────────────────────────────────────────── tidyverse_conflicts() ──\n",
            "✖ dplyr::filter() masks stats::filter()\n",
            "✖ dplyr::lag()    masks stats::lag()\n",
            "\n"
          ]
        }
      ],
      "source": [
        "# Asignamos nuestro \"working directory\" (set w. d.) como el directorio ~/RDATA y ponemos librerías\n",
        "%%R\n",
        "library(ggplot2)\n",
        "library(dplyr)\n",
        "library(tidyverse)"
      ]
    },
    {
      "cell_type": "markdown",
      "metadata": {
        "id": "T5p1FdDWEKDY"
      },
      "source": [
        "**Cargamos los datos originales**\n",
        "Sin embargo, estos datos no están limpios debido a que los clientes no ingresaron bien los datos, por lo que se realizó una limpieza de los datos para poder trabajar de mejor manera."
      ]
    },
    {
      "cell_type": "code",
      "execution_count": null,
      "metadata": {
        "id": "2A5epmDDELSs"
      },
      "outputs": [],
      "source": [
        "# (No volver a ejecutar pls)\n",
        "%%R\n",
        "pedidos_preeliminar <- read_csv(\"/content/orders.csv\")\n",
        "pedidos_detalle_preeliminar <-read_csv(\"/content/order_detail.csv\")"
      ]
    },
    {
      "cell_type": "markdown",
      "metadata": {
        "id": "NHEj7vxyEZMo"
      },
      "source": [
        "A modo de resumen se dejan la cantidad de columnas y filas de cada dataset"
      ]
    },
    {
      "cell_type": "code",
      "execution_count": null,
      "metadata": {
        "colab": {
          "base_uri": "https://localhost:8080/"
        },
        "id": "oMLG1qwjEZ0A",
        "outputId": "68fdb429-8a72-4c92-af05-c1851ff43638"
      },
      "outputs": [
        {
          "name": "stdout",
          "output_type": "stream",
          "text": [
            "[1] 104955\n",
            "[1] 68\n",
            "[1] 126704\n",
            "[1] 9\n"
          ]
        }
      ],
      "source": [
        "%%R\n",
        "print(nrow(pedidos_preeliminar))\n",
        "print(ncol(pedidos_preeliminar))\n",
        "print(nrow(pedidos_detalle_preeliminar))\n",
        "print(ncol(pedidos_detalle_preeliminar))"
      ]
    },
    {
      "cell_type": "markdown",
      "metadata": {
        "id": "bI3geYhFEfei"
      },
      "source": [
        "Para la limpieza se eliminaron filas vacías, datos *dummy* realizados por la empresa, y otros valores incosistentes y repetitivos.\n",
        "También se hizo un refactoring de los nombres de las columnas para un mejor entendimiento del dataset."
      ]
    },
    {
      "cell_type": "code",
      "execution_count": null,
      "metadata": {
        "colab": {
          "base_uri": "https://localhost:8080/"
        },
        "id": "ESl6QJtdEhS9",
        "outputId": "e675caf8-1d85-449c-d897-52cfbe6b7f61"
      },
      "outputs": [
        {
          "name": "stderr",
          "output_type": "stream",
          "text": [
            "UsageError: Cell magic `%%R` not found.\n"
          ]
        }
      ],
      "source": [
        "%%R\n",
        "pedidos<-read.csv(\"/content/Orders_OFICIAL.csv\", encoding = \"UTF-8\", sep=\";\")\n",
        "pedidos_detalle <-read.csv(\"/content/ORDER_DETAIL_OFICIAL.csv\", encoding = \"UTF-8\",sep=\";\")\n",
        "pedidos$count <- as.numeric(ave(pedidos$Comuna, pedidos$Comuna, FUN = length))\n",
        "pedidos_detalle$count.marca <- as.numeric(ave(pedidos_detalle$Marca, pedidos_detalle$Marca, FUN = length))"
      ]
    },
    {
      "cell_type": "code",
      "execution_count": null,
      "metadata": {
        "id": "OIIL4Zp-EnFI"
      },
      "outputs": [],
      "source": [
        "%%R\n",
        "# Se cambia el formato de la columna Fecha.Compra a Date.\n",
        "pedidos$Fecha.Compra <- as.Date(pedidos$Fecha.Compra, format =\"%d-%m-%Y\")\n",
        "# Se cambia el formato de la columna Fecha.Pedido a Date. También se agrega una columna con el año.\n",
        "pedidos_detalle$Fecha.Pedido <- as.Date(pedidos_detalle$Fecha.Pedido, format =\"%Y-%m-%d\")\n",
        "pedidos_detalle$anio <- as.numeric(format(pedidos_detalle$Fecha.Pedido,'%Y'))"
      ]
    },
    {
      "cell_type": "markdown",
      "metadata": {
        "id": "kk2FY-k-ErS4"
      },
      "source": [
        "# 2.1. Estudio sobre los datos filtrados\n",
        "\n",
        "1. **A grandes razgos podemos calcular la cantidad promedio que se gasta una persona en Block:**"
      ]
    },
    {
      "cell_type": "code",
      "execution_count": null,
      "metadata": {
        "colab": {
          "base_uri": "https://localhost:8080/"
        },
        "id": "FS0OLe9wEswP",
        "outputId": "77e84d3d-49d9-42c0-bec4-658748695613"
      },
      "outputs": [
        {
          "name": "stdout",
          "output_type": "stream",
          "text": [
            "[1] 45364.45\n"
          ]
        }
      ],
      "source": [
        "%%R\n",
        "nfilas <- nrow(pedidos)\n",
        "total_vendido <- sum(pedidos$Precio.Pedido)\n",
        "promedio_pedidos <- total_vendido/nfilas\n",
        "(promedio_pedidos)"
      ]
    },
    {
      "cell_type": "markdown",
      "metadata": {
        "id": "99WbHjMLEyS5"
      },
      "source": [
        "2. **Vamos a ver primero la cantidad de gente que pide más y menos que el promedio:**\n"
      ]
    },
    {
      "cell_type": "code",
      "execution_count": null,
      "metadata": {
        "colab": {
          "base_uri": "https://localhost:8080/"
        },
        "id": "1fC6Xn0jE0Jp",
        "outputId": "74d00372-e979-4d62-caf3-75b6aced9027"
      },
      "outputs": [
        {
          "name": "stdout",
          "output_type": "stream",
          "text": [
            "[1] 36083\n",
            "[1] 45759\n"
          ]
        }
      ],
      "source": [
        "%%R\n",
        "#La gente que pide mas que el promedio\n",
        "pedidos_RM_mayorpromedio <- data.frame(pedidos[pedidos$REGION.CON.CODIGO == \"RM\" & pedidos$Precio.Pedido > promedio_pedidos,] ) \n",
        "print(nrow(pedidos_RM_mayorpromedio))\n",
        "#La gente que pide menos que el promedio\n",
        "pedidos_RM_menorpromedio <- data.frame(pedidos[pedidos$REGION.CON.CODIGO == \"RM\" & pedidos$Precio.Pedido <= promedio_pedidos,] ) \n",
        "print(nrow(pedidos_RM_menorpromedio))"
      ]
    },
    {
      "cell_type": "markdown",
      "metadata": {
        "id": "9gyCf3cSI51_"
      },
      "source": [
        "3. **El pedido más caro en Block online**\n",
        "Podemos ver que en la tabla pedidos_Detalles según el numero de pedido podemos ver el detalle de la compra que realizó la clienta."
      ]
    },
    {
      "cell_type": "code",
      "execution_count": null,
      "metadata": {
        "colab": {
          "base_uri": "https://localhost:8080/"
        },
        "id": "xwZvp5TyI6hb",
        "outputId": "2750e9fb-deaa-41f0-f063-24132536441c"
      },
      "outputs": [
        {
          "name": "stdout",
          "output_type": "stream",
          "text": [
            "           ID                    Email Precio.Pedido Numero.Pedido   ID.Cliente\n",
            "3488 1,72E+12 alfredo.e.vega@gmail.com        454116       #BL4499 1.939678e+12\n",
            "     Fecha.Compra Año.Compra Mes.Compra Cantidad.Pedidos.Cliente\n",
            "3488   2019-07-25       2019          7                       17\n",
            "     Total.Gastado.Cliente       RUT           Direccion.1 Direccion.2 Comuna\n",
            "3488               1050781 18172868k Caupolican 1620 renca         210  RENCA\n",
            "     Nombre.Cliente REGION.CON.CODIGO Tipo.despacho count\n",
            "3488 Camila Fuentes                RM      Despacho  1337\n"
          ]
        }
      ],
      "source": [
        "%%R\n",
        "pedidos[which.max(pedidos$Precio.Pedido),]\n"
      ]
    },
    {
      "cell_type": "code",
      "execution_count": null,
      "metadata": {
        "colab": {
          "base_uri": "https://localhost:8080/"
        },
        "id": "2B_VVXr3Jjgt",
        "outputId": "b7f6cf6a-30fc-41d4-cda4-93a3c1ef5fe6"
      },
      "outputs": [
        {
          "name": "stdout",
          "output_type": "stream",
          "text": [
            "[1] 454116\n"
          ]
        }
      ],
      "source": [
        "%%R\n",
        "#usamos su numero de pedido para ver las compras realizadas\n",
        "pedido_maximo_detalle <- pedidos_detalle[pedidos_detalle$Numero.Pedido == \"#BL4499\",]\n",
        "#verificamos el dinero sea consistente en ambas tablas\n",
        "sum(pedido_maximo_detalle$Precio.Total.Productos)"
      ]
    },
    {
      "cell_type": "markdown",
      "metadata": {
        "id": "-xgRCcBFJn4o"
      },
      "source": [
        "4. **La cantidad de pedidos divididos por región:**"
      ]
    },
    {
      "cell_type": "code",
      "execution_count": null,
      "metadata": {
        "colab": {
          "base_uri": "https://localhost:8080/",
          "height": 497
        },
        "id": "QCiN62cfJoUH",
        "outputId": "8f207f4c-1f6d-4ba3-d52a-05771f89e073"
      },
      "outputs": [
        {
          "data": {
            "image/png": "[encoded data removed]"
          },
          "metadata": {},
          "output_type": "display_data"
        }
      ],
      "source": [
        "%%R\n",
        "ggplot(pedidos, aes(x = REGION.CON.CODIGO),) +\n",
        "   ggtitle(\"Cantidad de pedidos por región\") +\n",
        "  geom_bar()"
      ]
    },
    {
      "cell_type": "markdown",
      "metadata": {
        "id": "7pkd7Ug2JtmF"
      },
      "source": [
        "5. **Cantidad de pedidos dividos por comuna**"
      ]
    },
    {
      "cell_type": "code",
      "execution_count": null,
      "metadata": {
        "colab": {
          "base_uri": "https://localhost:8080/",
          "height": 497
        },
        "id": "LARL6uTQJwUF",
        "outputId": "e777a0c0-1ab7-4e78-c750-027779c824ae"
      },
      "outputs": [
        {
          "data": {
            "image/png": "[encoded data removed]"
          },
          "metadata": {},
          "output_type": "display_data"
        }
      ],
      "source": [
        "%%R\n",
        "freq_comuna <- data.frame(comuna = pedidos$Comuna, count = pedidos$count)\n",
        "freq_comuna <-  unique(freq_comuna)\n",
        "freq_comuna <- freq_comuna[order(freq_comuna[,\"count\"], decreasing = TRUE),]\n",
        "ggplot(freq_comuna[1:30,], aes(x = reorder(comuna , count),y = count)) + ggtitle(\"Las 30 Comunas con mas pedidos del pais\") + coord_flip() + geom_bar(stat = \"identity\")"
      ]
    },
    {
      "cell_type": "markdown",
      "metadata": {
        "id": "d-DteECkJ75i"
      },
      "source": [
        "6. Puente alto y Las condes son de las comunas más pobladas de la RM\n",
        "Puente alto es una de las comunas más \"zapatilleras\" vs \"Las condes\" que es una comuna que tiende más a la ropa formal. A continuación veremos la cantidad de pedidos, el promedio de estos y la suma total de dinero de las respectivas comunas:"
      ]
    },
    {
      "cell_type": "code",
      "execution_count": null,
      "metadata": {
        "colab": {
          "base_uri": "https://localhost:8080/"
        },
        "id": "rmFshZNOJ9JW",
        "outputId": "a80acffb-3651-412c-d231-b73290f0da2c"
      },
      "outputs": [
        {
          "name": "stdout",
          "output_type": "stream",
          "text": [
            "[1] 2777\n",
            "[1] 47841.46\n",
            "[1] 132855726\n",
            "[1] 5462\n",
            "[1] 42816.93\n",
            "[1] 233866080\n"
          ]
        }
      ],
      "source": [
        "%%R\n",
        "pedidos_comuna_Lascondes <- data.frame(pedidos[pedidos$Comuna == \"LAS CONDES\", ] )\n",
        "print(nrow(pedidos_comuna_Lascondes))\n",
        "print(mean(pedidos_comuna_Lascondes$Precio.Pedido))\n",
        "print(sum(pedidos_comuna_Lascondes$Precio.Pedido))\n",
        "\n",
        "pedidos_comuna_maipu <- data.frame(pedidos[pedidos$Comuna == \"MAIPU\", ] )\n",
        "print(nrow(pedidos_comuna_maipu))\n",
        "print(mean(pedidos_comuna_maipu$Precio.Pedido))\n",
        "print(sum(pedidos_comuna_maipu$Precio.Pedido))"
      ]
    },
    {
      "cell_type": "markdown",
      "metadata": {
        "id": "uSC3H4pGKUfF"
      },
      "source": [
        "7. **Se deja un historial de pedidos desde el inicio del dataset hasta la ultima fecha presente:**"
      ]
    },
    {
      "cell_type": "code",
      "execution_count": null,
      "metadata": {
        "colab": {
          "base_uri": "https://localhost:8080/",
          "height": 497
        },
        "id": "6_ZuN5HCKU_c",
        "outputId": "df221c90-88aa-4f47-b754-5e5ae080da11"
      },
      "outputs": [
        {
          "data": {
            "image/png": "[encoded data removed]"
          },
          "metadata": {},
          "output_type": "display_data"
        }
      ],
      "source": [
        "%%R\n",
        "ggplot(pedidos, aes(x = Fecha.Compra) ) + geom_bar() + scale_x_date(date_breaks = \"1 month\", date_labels = \"%b\") + labs(title = \"Compras a lo largo del tiempo\", x = \"fecha\", y = \"Cantidad de pedidos\")"
      ]
    },
    {
      "cell_type": "markdown",
      "metadata": {
        "id": "Xce21VMtKbaI"
      },
      "source": [
        "8. **Vamos a ver cuanto se ha vendido en block por marca**"
      ]
    },
    {
      "cell_type": "code",
      "execution_count": null,
      "metadata": {
        "colab": {
          "base_uri": "https://localhost:8080/",
          "height": 497
        },
        "id": "EevmuHhKKb-j",
        "outputId": "de6c0377-1632-42c3-a614-6d2e36f8e3bf"
      },
      "outputs": [
        {
          "data": {
            "image/png": "[encoded data removed]"
          },
          "metadata": {},
          "output_type": "display_data"
        }
      ],
      "source": [
        "%%R\n",
        "freq_marca <- data.frame(marca = pedidos_detalle$Marca, count = pedidos_detalle$count.marca)\n",
        "freq_marca <-  unique(freq_marca)\n",
        "freq_marca <- freq_marca[order(freq_marca[,\"count\"], decreasing = TRUE),]\n",
        "\n",
        "ggplot(freq_marca[1:30,], aes(x = reorder(marca , count), y = count)) + ggtitle(\"Las 30 Marcas con mas pedidos del pais\") + coord_flip() + geom_bar(stat = \"identity\")"
      ]
    },
    {
      "cell_type": "markdown",
      "metadata": {
        "id": "ChhEB07KKiH8"
      },
      "source": [
        "9. **Veremos cuanto se ha vendido en block por marca:**"
      ]
    },
    {
      "cell_type": "code",
      "execution_count": null,
      "metadata": {
        "colab": {
          "base_uri": "https://localhost:8080/",
          "height": 497
        },
        "id": "DgU-hIUmKitD",
        "outputId": "187a8e60-fb24-426b-f421-e739390eada0"
      },
      "outputs": [
        {
          "data": {
            "image/png": "[encoded data removed]"
          },
          "metadata": {},
          "output_type": "display_data"
        }
      ],
      "source": [
        "%%R\n",
        "precio_marca <- data.frame(marca = pedidos_detalle$Marca, precio = pedidos_detalle$Precio.Producto)\n",
        "\n",
        "p1 <- ggplot(pedidos_detalle, aes(x = Marca, y = Precio.Producto)) + geom_boxplot()+ coord_flip() + ggtitle(\"Precios de la marca\")\n",
        "p1"
      ]
    },
    {
      "cell_type": "markdown",
      "metadata": {
        "id": "4MxSeYwHOmyU"
      },
      "source": [
        "# Hito 2\n",
        "\n",
        "Para este hito se trabajará con la librería *pandas* en *Python*, por lo que se debe reimportar las bases de datos y también limpiarlas para reordenar las ideas que serán llevadas a cabo en este *Hito 2*.\n",
        "\n",
        "Se importan las librerías necesarias para la exploración:"
      ]
    },
    {
      "cell_type": "code",
      "execution_count": 1,
      "metadata": {
        "id": "zP9gnaqOOq8J"
      },
      "outputs": [],
      "source": [
        "# Librerias principales para la exploración:\n",
        "import csv\n",
        "import pandas as pd\n",
        "import numpy as np\n",
        "import matplotlib.pyplot as plt"
      ]
    },
    {
      "cell_type": "markdown",
      "metadata": {
        "id": "A3SBi9tSXVEG"
      },
      "source": [
        "Luego de esto, borramos las columnas de la dirección y el rut para proteger la privacidad de cada uno de los compradores, además que tenemos un ID de cliente que identifica a cada persona única, similar al *RUT*."
      ]
    },
    {
      "cell_type": "code",
      "execution_count": 3,
      "metadata": {
        "colab": {
          "base_uri": "https://localhost:8080/",
          "height": 254
        },
        "id": "xNbtnzLBO0mS",
        "outputId": "a932a1fd-40d2-486a-8ea2-55813b9b71fb"
      },
      "outputs": [
        {
          "data": {
            "text/html": [
              "<div>\n",
              "<style scoped>\n",
              "    .dataframe tbody tr th:only-of-type {\n",
              "        vertical-align: middle;\n",
              "    }\n",
              "\n",
              "    .dataframe tbody tr th {\n",
              "        vertical-align: top;\n",
              "    }\n",
              "\n",
              "    .dataframe thead th {\n",
              "        text-align: right;\n",
              "    }\n",
              "</style>\n",
              "<table border=\"1\" class=\"dataframe\">\n",
              "  <thead>\n",
              "    <tr style=\"text-align: right;\">\n",
              "      <th></th>\n",
              "      <th>ID</th>\n",
              "      <th>Precio Pedido</th>\n",
              "      <th>Numero Pedido</th>\n",
              "      <th>ID Cliente</th>\n",
              "      <th>Fecha Compra</th>\n",
              "      <th>Año Compra</th>\n",
              "      <th>Mes Compra</th>\n",
              "      <th>Cantidad Pedidos Cliente</th>\n",
              "      <th>Total Gastado Cliente</th>\n",
              "      <th>Comuna</th>\n",
              "      <th>Nombre Cliente</th>\n",
              "      <th>REGION CON CODIGO</th>\n",
              "      <th>Tipo despacho</th>\n",
              "    </tr>\n",
              "  </thead>\n",
              "  <tbody>\n",
              "    <tr>\n",
              "      <th>0</th>\n",
              "      <td>1,15E+12</td>\n",
              "      <td>21900</td>\n",
              "      <td>#1010</td>\n",
              "      <td>1.899446e+12</td>\n",
              "      <td>08-07-2019</td>\n",
              "      <td>2019</td>\n",
              "      <td>7</td>\n",
              "      <td>13.0</td>\n",
              "      <td>444337.0</td>\n",
              "      <td>COLINA</td>\n",
              "      <td>DENNISSE ALVARADO CHIGUAY</td>\n",
              "      <td>RM</td>\n",
              "      <td>Despacho</td>\n",
              "    </tr>\n",
              "    <tr>\n",
              "      <th>1</th>\n",
              "      <td>1,15E+12</td>\n",
              "      <td>37419</td>\n",
              "      <td>#1011</td>\n",
              "      <td>1.938644e+12</td>\n",
              "      <td>25-07-2019</td>\n",
              "      <td>2019</td>\n",
              "      <td>7</td>\n",
              "      <td>1.0</td>\n",
              "      <td>37419.0</td>\n",
              "      <td>307</td>\n",
              "      <td>Florencia  Garcia</td>\n",
              "      <td>RM</td>\n",
              "      <td>Despacho</td>\n",
              "    </tr>\n",
              "    <tr>\n",
              "      <th>2</th>\n",
              "      <td>1,15E+12</td>\n",
              "      <td>40419</td>\n",
              "      <td>#1012</td>\n",
              "      <td>1.938654e+12</td>\n",
              "      <td>25-07-2019</td>\n",
              "      <td>2019</td>\n",
              "      <td>7</td>\n",
              "      <td>1.0</td>\n",
              "      <td>40419.0</td>\n",
              "      <td>301</td>\n",
              "      <td>Belén  Herrera</td>\n",
              "      <td>RM</td>\n",
              "      <td>Despacho</td>\n",
              "    </tr>\n",
              "    <tr>\n",
              "      <th>3</th>\n",
              "      <td>1,15E+12</td>\n",
              "      <td>12329</td>\n",
              "      <td>#1013</td>\n",
              "      <td>1.939397e+12</td>\n",
              "      <td>25-07-2019</td>\n",
              "      <td>2019</td>\n",
              "      <td>7</td>\n",
              "      <td>1.0</td>\n",
              "      <td>12329.0</td>\n",
              "      <td>316</td>\n",
              "      <td>Jason Lizana</td>\n",
              "      <td>RM</td>\n",
              "      <td>Despacho</td>\n",
              "    </tr>\n",
              "    <tr>\n",
              "      <th>4</th>\n",
              "      <td>1,15E+12</td>\n",
              "      <td>20993</td>\n",
              "      <td>#1014</td>\n",
              "      <td>1.906865e+12</td>\n",
              "      <td>10-07-2019</td>\n",
              "      <td>2019</td>\n",
              "      <td>7</td>\n",
              "      <td>14.0</td>\n",
              "      <td>656793.0</td>\n",
              "      <td>LO BARNECHEA</td>\n",
              "      <td>Tomas Schnapp</td>\n",
              "      <td>RM</td>\n",
              "      <td>Retiro en tienda</td>\n",
              "    </tr>\n",
              "  </tbody>\n",
              "</table>\n",
              "</div>"
            ],
            "text/plain": [
              "         ID  Precio Pedido Numero Pedido    ID Cliente Fecha Compra  \\\n",
              "0  1,15E+12          21900         #1010  1.899446e+12   08-07-2019   \n",
              "1  1,15E+12          37419         #1011  1.938644e+12   25-07-2019   \n",
              "2  1,15E+12          40419         #1012  1.938654e+12   25-07-2019   \n",
              "3  1,15E+12          12329         #1013  1.939397e+12   25-07-2019   \n",
              "4  1,15E+12          20993         #1014  1.906865e+12   10-07-2019   \n",
              "\n",
              "   Año Compra  Mes Compra  Cantidad Pedidos Cliente  Total Gastado Cliente  \\\n",
              "0        2019           7                      13.0               444337.0   \n",
              "1        2019           7                       1.0                37419.0   \n",
              "2        2019           7                       1.0                40419.0   \n",
              "3        2019           7                       1.0                12329.0   \n",
              "4        2019           7                      14.0               656793.0   \n",
              "\n",
              "         Comuna             Nombre Cliente REGION CON CODIGO     Tipo despacho  \n",
              "0        COLINA  DENNISSE ALVARADO CHIGUAY                RM          Despacho  \n",
              "1           307         Florencia  Garcia                 RM          Despacho  \n",
              "2           301            Belén  Herrera                 RM          Despacho  \n",
              "3           316               Jason Lizana                RM          Despacho  \n",
              "4  LO BARNECHEA              Tomas Schnapp                RM  Retiro en tienda  "
            ]
          },
          "execution_count": 3,
          "metadata": {},
          "output_type": "execute_result"
        }
      ],
      "source": [
        "# Reimportamos todo\n",
        "pedidos2 = pd.read_csv(\"Orders_OFICIAL.csv\", sep=\";\")\n",
        "pedidos_detalles2 = pd.read_csv(\"ORDER_DETAIL_OFICIAL.csv\", sep=\";\")\n",
        "\n",
        "pedidos2 = pedidos2.drop(columns=\"Direccion 1\")\n",
        "pedidos2 = pedidos2.drop(columns=\"Direccion 2\")\n",
        "pedidos2 = pedidos2.drop(columns=\"RUT\")\n",
        "pedidos2 = pedidos2.drop(columns=\"Email\")\n",
        "pedidos2.head()"
      ]
    },
    {
      "cell_type": "markdown",
      "metadata": {
        "id": "iCTu7cQNoS8K"
      },
      "source": [
        "# ¿Cómo se relaciona el precio de la compra con el lugar desde donde se pidió?\n"
      ]
    },
    {
      "cell_type": "code",
      "execution_count": 4,
      "metadata": {
        "colab": {
          "base_uri": "https://localhost:8080/",
          "height": 534
        },
        "id": "r7RqNlc-rgr4",
        "outputId": "9f377c01-77d8-4f27-9e8a-e9d996484161"
      },
      "outputs": [
        {
          "name": "stdout",
          "output_type": "stream",
          "text": [
            "70290.14285714286 7\n",
            "41775.52635119982 4459\n",
            "45061.81488203267 1102\n",
            "49104.514011208965 1249\n"
          ]
        },
        {
          "data": {
            "text/html": [
              "<div>\n",
              "<style scoped>\n",
              "    .dataframe tbody tr th:only-of-type {\n",
              "        vertical-align: middle;\n",
              "    }\n",
              "\n",
              "    .dataframe tbody tr th {\n",
              "        vertical-align: top;\n",
              "    }\n",
              "\n",
              "    .dataframe thead th {\n",
              "        text-align: right;\n",
              "    }\n",
              "</style>\n",
              "<table border=\"1\" class=\"dataframe\">\n",
              "  <thead>\n",
              "    <tr style=\"text-align: right;\">\n",
              "      <th></th>\n",
              "      <th>ID</th>\n",
              "      <th>Precio Pedido</th>\n",
              "      <th>Numero Pedido</th>\n",
              "      <th>ID Cliente</th>\n",
              "      <th>Fecha Compra</th>\n",
              "      <th>Año Compra</th>\n",
              "      <th>Mes Compra</th>\n",
              "      <th>Cantidad Pedidos Cliente</th>\n",
              "      <th>Total Gastado Cliente</th>\n",
              "      <th>Comuna</th>\n",
              "      <th>Nombre Cliente</th>\n",
              "      <th>REGION CON CODIGO</th>\n",
              "      <th>Tipo despacho</th>\n",
              "    </tr>\n",
              "  </thead>\n",
              "  <tbody>\n",
              "    <tr>\n",
              "      <th>13945</th>\n",
              "      <td>2,13E+12</td>\n",
              "      <td>135960</td>\n",
              "      <td>BL14959</td>\n",
              "      <td>3.020355e+12</td>\n",
              "      <td>31-03-2020</td>\n",
              "      <td>2020</td>\n",
              "      <td>3</td>\n",
              "      <td>2.0</td>\n",
              "      <td>261930.0</td>\n",
              "      <td>CHONCHI</td>\n",
              "      <td>MILENA ALVAREZ</td>\n",
              "      <td>LL</td>\n",
              "      <td>Despacho</td>\n",
              "    </tr>\n",
              "    <tr>\n",
              "      <th>27559</th>\n",
              "      <td>2,44E+12</td>\n",
              "      <td>16980</td>\n",
              "      <td>BL28579</td>\n",
              "      <td>3.342724e+12</td>\n",
              "      <td>11-07-2020</td>\n",
              "      <td>2020</td>\n",
              "      <td>7</td>\n",
              "      <td>1.0</td>\n",
              "      <td>16980.0</td>\n",
              "      <td>CHONCHI</td>\n",
              "      <td>Matías Torres Salas</td>\n",
              "      <td>LL</td>\n",
              "      <td>Despacho</td>\n",
              "    </tr>\n",
              "    <tr>\n",
              "      <th>31795</th>\n",
              "      <td>2,50E+12</td>\n",
              "      <td>61980</td>\n",
              "      <td>BL32816</td>\n",
              "      <td>3.416197e+12</td>\n",
              "      <td>05-08-2020</td>\n",
              "      <td>2020</td>\n",
              "      <td>8</td>\n",
              "      <td>1.0</td>\n",
              "      <td>61980.0</td>\n",
              "      <td>CHONCHI</td>\n",
              "      <td>Lizbeth  Bravo Martínez</td>\n",
              "      <td>RM</td>\n",
              "      <td>Despacho</td>\n",
              "    </tr>\n",
              "    <tr>\n",
              "      <th>44347</th>\n",
              "      <td>2,62E+12</td>\n",
              "      <td>42980</td>\n",
              "      <td>BL45374</td>\n",
              "      <td>3.529628e+12</td>\n",
              "      <td>17-09-2020</td>\n",
              "      <td>2020</td>\n",
              "      <td>9</td>\n",
              "      <td>1.0</td>\n",
              "      <td>42980.0</td>\n",
              "      <td>CHONCHI</td>\n",
              "      <td>Mirtha Saldivia</td>\n",
              "      <td>RM</td>\n",
              "      <td>Despacho</td>\n",
              "    </tr>\n",
              "    <tr>\n",
              "      <th>54481</th>\n",
              "      <td>2,73E+12</td>\n",
              "      <td>35181</td>\n",
              "      <td>BL55509</td>\n",
              "      <td>3.628113e+12</td>\n",
              "      <td>31-10-2020</td>\n",
              "      <td>2020</td>\n",
              "      <td>10</td>\n",
              "      <td>1.0</td>\n",
              "      <td>35181.0</td>\n",
              "      <td>CHONCHI</td>\n",
              "      <td>javiera díaz Cisternas</td>\n",
              "      <td>LL</td>\n",
              "      <td>Despacho</td>\n",
              "    </tr>\n",
              "    <tr>\n",
              "      <th>100427</th>\n",
              "      <td>3,85E+12</td>\n",
              "      <td>72980</td>\n",
              "      <td>BL101467</td>\n",
              "      <td>5.130756e+12</td>\n",
              "      <td>18-05-2021</td>\n",
              "      <td>2021</td>\n",
              "      <td>5</td>\n",
              "      <td>1.0</td>\n",
              "      <td>72980.0</td>\n",
              "      <td>CHONCHI</td>\n",
              "      <td>Nicol Andrade igor</td>\n",
              "      <td>LL</td>\n",
              "      <td>Despacho</td>\n",
              "    </tr>\n",
              "    <tr>\n",
              "      <th>102028</th>\n",
              "      <td>3,86E+12</td>\n",
              "      <td>125970</td>\n",
              "      <td>BL103068</td>\n",
              "      <td>3.020355e+12</td>\n",
              "      <td>31-03-2020</td>\n",
              "      <td>2020</td>\n",
              "      <td>3</td>\n",
              "      <td>2.0</td>\n",
              "      <td>261930.0</td>\n",
              "      <td>CHONCHI</td>\n",
              "      <td>MILENA ALVAREZ</td>\n",
              "      <td>LL</td>\n",
              "      <td>Despacho</td>\n",
              "    </tr>\n",
              "  </tbody>\n",
              "</table>\n",
              "</div>"
            ],
            "text/plain": [
              "              ID  Precio Pedido Numero Pedido    ID Cliente Fecha Compra  \\\n",
              "13945   2,13E+12         135960       BL14959  3.020355e+12   31-03-2020   \n",
              "27559   2,44E+12          16980       BL28579  3.342724e+12   11-07-2020   \n",
              "31795   2,50E+12          61980       BL32816  3.416197e+12   05-08-2020   \n",
              "44347   2,62E+12          42980       BL45374  3.529628e+12   17-09-2020   \n",
              "54481   2,73E+12          35181       BL55509  3.628113e+12   31-10-2020   \n",
              "100427  3,85E+12          72980      BL101467  5.130756e+12   18-05-2021   \n",
              "102028  3,86E+12         125970      BL103068  3.020355e+12   31-03-2020   \n",
              "\n",
              "        Año Compra  Mes Compra  Cantidad Pedidos Cliente  \\\n",
              "13945         2020           3                       2.0   \n",
              "27559         2020           7                       1.0   \n",
              "31795         2020           8                       1.0   \n",
              "44347         2020           9                       1.0   \n",
              "54481         2020          10                       1.0   \n",
              "100427        2021           5                       1.0   \n",
              "102028        2020           3                       2.0   \n",
              "\n",
              "        Total Gastado Cliente   Comuna            Nombre Cliente  \\\n",
              "13945                261930.0  CHONCHI            MILENA ALVAREZ   \n",
              "27559                 16980.0  CHONCHI       Matías Torres Salas   \n",
              "31795                 61980.0  CHONCHI  Lizbeth  Bravo Martínez    \n",
              "44347                 42980.0  CHONCHI           Mirtha Saldivia   \n",
              "54481                 35181.0  CHONCHI    javiera díaz Cisternas   \n",
              "100427                72980.0  CHONCHI        Nicol Andrade igor   \n",
              "102028               261930.0  CHONCHI            MILENA ALVAREZ   \n",
              "\n",
              "       REGION CON CODIGO Tipo despacho  \n",
              "13945                 LL      Despacho  \n",
              "27559                 LL      Despacho  \n",
              "31795                 RM      Despacho  \n",
              "44347                 RM      Despacho  \n",
              "54481                 LL      Despacho  \n",
              "100427                LL      Despacho  \n",
              "102028                LL      Despacho  "
            ]
          },
          "execution_count": 4,
          "metadata": {},
          "output_type": "execute_result"
        }
      ],
      "source": [
        "\n",
        "# Comunas\n",
        "\n",
        "comunas = pedidos2['Comuna'].unique()\n",
        "# print(comunas) -> Algunas son numeros\n",
        "\n",
        "promedios = []\n",
        "for comuna in comunas:\n",
        "  promedios.append(pedidos2[pedidos2['Comuna'] == comuna]['Precio Pedido'].mean())\n",
        "\n",
        "# Promedio de precios de pedido por comuna\n",
        "print(pedidos2[pedidos2['Comuna'] == 'CHONCHI']['Precio Pedido'].mean(), len(pedidos2[pedidos2['Comuna'] == 'CHONCHI']['Precio Pedido']))\n",
        "print(pedidos2[pedidos2['Comuna'] == 'SANTIAGO']['Precio Pedido'].mean(), len(pedidos2[pedidos2['Comuna'] == 'SANTIAGO']['Precio Pedido']))\n",
        "print(pedidos2[pedidos2['Comuna'] == 'VITACURA']['Precio Pedido'].mean(), len(pedidos2[pedidos2['Comuna'] == 'VITACURA']['Precio Pedido']))\n",
        "print(pedidos2[pedidos2['Comuna'] == 'IQUIQUE']['Precio Pedido'].mean(), len(pedidos2[pedidos2['Comuna'] == 'IQUIQUE']['Precio Pedido']))\n",
        "\n",
        "zip_iterator = zip(comunas, promedios)\n",
        "diccionario = dict(zip_iterator)\n",
        "\n",
        "#print(diccionario)\n",
        "\n",
        "#LL y RM\n",
        "pedidos2[pedidos2['Comuna'] == 'CHONCHI']"
      ]
    },
    {
      "cell_type": "markdown",
      "metadata": {
        "id": "q_M6_5LYpkbv"
      },
      "source": [
        "# ¿Qué marcas se compran más según el sector? "
      ]
    },
    {
      "cell_type": "code",
      "execution_count": null,
      "metadata": {
        "id": "wVVNNLFxpxEf"
      },
      "outputs": [],
      "source": []
    },
    {
      "cell_type": "markdown",
      "metadata": {
        "id": "OSjvyN9GKuMn"
      },
      "source": [
        "# Preguntas y problemas\n",
        "\n",
        "Dada la exploración anterior y su motivación original, formular preguntas que se pueden responder mediante la minería de datos y que se puedan vincular a la problemática planteada en la motivación\n",
        "\n",
        "\n",
        "1. **¿Qué marcas se compran juntos?**\n",
        "2. **¿Existe una tendencia en la segunda compra con respecto a la primera?(se compra la misma marca 2 veces?)**\n",
        "3. **¿Qué producto puede que compre alguien que ya adquirió x producto?** \n",
        "4. **Comportamiento de clientes con respecto a la cantidad de compras y su monto total** \n",
        "\n",
        "\n",
        "\n",
        "\n"
      ]
    },
    {
      "cell_type": "markdown",
      "metadata": {
        "id": "vBaQd-GkrmCj"
      },
      "source": [
        "# Pregunta 1\n",
        "Para responder a esta pregunta se realizarán los siguientes pasos:\n",
        "- Utilizaremos Reglas de Asociación, basándose en el problema de la canasta.\n",
        "- No se ha visto en clases, por lo que no tenemos definido los pasos a seguir.\n",
        "\n",
        "# Pregunta 2 \n",
        "Al ser una especie de \"recomendación\", utilizaremos clasificacion pues lo importante en esta pregunta es ver cuál es la tendencia de compra una vez que se haya realizado la primera. Para esta, tendremos que generar una nueva columna con el tipo de producto (por ejemplo: polera, zapatillas, jockey, etc.), y utlizar esto para predecir qué tipo de producto se hará en la segunda compra de un cliente. La idea es básicamente, pasarle la tabla al entrenador, pero sólo con los datos de la primera compra, y ver si es capaz de predecir la siguiente.\n",
        "\n",
        "# Pregunta 3\n",
        "- De forma análoga a la pregunta 1 Utilizaremos Reglas de Asociación, basándose en el problema de la canasta.\n",
        "- No se ha visto en clases, por lo que no tenemos definido los pasos a seguir.\n",
        "\n",
        "\n",
        "# Pregunta 4\n"
      ]
    },
    {
      "cell_type": "code",
      "execution_count": null,
      "metadata": {
        "id": "PERw53MZ--3T"
      },
      "outputs": [],
      "source": []
    },
    {
      "cell_type": "markdown",
      "metadata": {
        "id": "ZaDIapzVHhQu"
      },
      "source": [
        "#Resultado preliminar"
      ]
    },
    {
      "cell_type": "markdown",
      "metadata": {
        "id": "yWnInm0KHizY"
      },
      "source": [
        "##Pregunta 4"
      ]
    },
    {
      "cell_type": "code",
      "execution_count": 5,
      "metadata": {
        "colab": {
          "base_uri": "https://localhost:8080/",
          "height": 237
        },
        "id": "gJefSrSSJKA8",
        "outputId": "76b538b7-3fd5-4efc-b6cf-2a8796c16497"
      },
      "outputs": [
        {
          "name": "stdout",
          "output_type": "stream",
          "text": [
            "314760\n",
            "256215\n"
          ]
        },
        {
          "data": {
            "text/html": [
              "<div>\n",
              "<style scoped>\n",
              "    .dataframe tbody tr th:only-of-type {\n",
              "        vertical-align: middle;\n",
              "    }\n",
              "\n",
              "    .dataframe tbody tr th {\n",
              "        vertical-align: top;\n",
              "    }\n",
              "\n",
              "    .dataframe thead th {\n",
              "        text-align: right;\n",
              "    }\n",
              "</style>\n",
              "<table border=\"1\" class=\"dataframe\">\n",
              "  <thead>\n",
              "    <tr style=\"text-align: right;\">\n",
              "      <th></th>\n",
              "      <th>Cantidad Pedidos Cliente</th>\n",
              "      <th>Total Gastado Cliente</th>\n",
              "    </tr>\n",
              "  </thead>\n",
              "  <tbody>\n",
              "    <tr>\n",
              "      <th>0</th>\n",
              "      <td>13.0</td>\n",
              "      <td>444337.0</td>\n",
              "    </tr>\n",
              "    <tr>\n",
              "      <th>1</th>\n",
              "      <td>1.0</td>\n",
              "      <td>37419.0</td>\n",
              "    </tr>\n",
              "    <tr>\n",
              "      <th>2</th>\n",
              "      <td>1.0</td>\n",
              "      <td>40419.0</td>\n",
              "    </tr>\n",
              "    <tr>\n",
              "      <th>3</th>\n",
              "      <td>1.0</td>\n",
              "      <td>12329.0</td>\n",
              "    </tr>\n",
              "    <tr>\n",
              "      <th>4</th>\n",
              "      <td>14.0</td>\n",
              "      <td>656793.0</td>\n",
              "    </tr>\n",
              "  </tbody>\n",
              "</table>\n",
              "</div>"
            ],
            "text/plain": [
              "   Cantidad Pedidos Cliente  Total Gastado Cliente\n",
              "0                      13.0               444337.0\n",
              "1                       1.0                37419.0\n",
              "2                       1.0                40419.0\n",
              "3                       1.0                12329.0\n",
              "4                      14.0               656793.0"
            ]
          },
          "execution_count": 5,
          "metadata": {},
          "output_type": "execute_result"
        }
      ],
      "source": [
        "# crear tabla a partir de la otra\n",
        "pedidos3 = pedidos2[['ID Cliente', 'Cantidad Pedidos Cliente', 'Total Gastado Cliente']].copy()\n",
        "print(pedidos3.size)\n",
        "pedidos3 = pedidos3.drop_duplicates(subset = ['ID Cliente'])\n",
        "print(pedidos3.size)\n",
        "pedidos3 = pedidos3.drop(['ID Cliente'], axis=1)\n",
        "pedidos3.head()"
      ]
    },
    {
      "cell_type": "code",
      "execution_count": 6,
      "metadata": {
        "colab": {
          "base_uri": "https://localhost:8080/"
        },
        "id": "giNnpRFhHnqo",
        "outputId": "253bea6c-4f4a-4663-f450-29b6aff71568"
      },
      "outputs": [
        {
          "data": {
            "text/plain": [
              "array([[1.30000e+01, 4.44337e+05],\n",
              "       [1.00000e+00, 3.74190e+04],\n",
              "       [1.00000e+00, 4.04190e+04],\n",
              "       ...,\n",
              "       [1.00000e+00, 5.49800e+04],\n",
              "       [1.00000e+00, 5.39800e+04],\n",
              "       [1.00000e+00, 5.99800e+04]])"
            ]
          },
          "execution_count": 6,
          "metadata": {},
          "output_type": "execute_result"
        }
      ],
      "source": [
        "#K-means\n",
        "\n",
        "from sklearn.cluster import KMeans\n",
        "from sklearn import datasets\n",
        "import matplotlib.pyplot as plt\n",
        "import numpy as np\n",
        "\n",
        "random_state = 20\n",
        "X = pd.DataFrame(pedidos3).to_numpy()\n",
        "X\n"
      ]
    },
    {
      "cell_type": "code",
      "execution_count": 5,
      "metadata": {
        "colab": {
          "base_uri": "https://localhost:8080/",
          "height": 281
        },
        "id": "apFBSTNTNLvu",
        "outputId": "d179063b-c8eb-40b3-ce89-aa564f68d658"
      },
      "outputs": [
        {
          "data": {
            "image/png": "[encoded data removed]",
            "text/plain": [
              "<Figure size 432x288 with 1 Axes>"
            ]
          },
          "metadata": {
            "needs_background": "light"
          },
          "output_type": "display_data"
        }
      ],
      "source": [
        "# Respuesta\n",
        "sse = []\n",
        "\n",
        "clusters = list(range(1, 10))\n",
        "for k in clusters:\n",
        "    kmeans = KMeans(n_clusters=k).fit(X)\n",
        "    sse.append(kmeans.inertia_)\n",
        "\n",
        "plt.plot(clusters, sse, marker=\"o\")\n",
        "plt.title(\"Metodo del codo de 1 a 10 clusters\")\n",
        "plt.grid(True)\n",
        "plt.show()"
      ]
    },
    {
      "cell_type": "code",
      "execution_count": 7,
      "metadata": {
        "colab": {
          "base_uri": "https://localhost:8080/",
          "height": 295
        },
        "id": "zTxciIJTNSUc",
        "outputId": "f1153dd8-825d-4304-d2cc-52d4d132fcb5"
      },
      "outputs": [
        {
          "data": {
            "image/png": "[encoded data removed]",
            "text/plain": [
              "<Figure size 432x288 with 1 Axes>"
            ]
          },
          "metadata": {
            "needs_background": "light"
          },
          "output_type": "display_data"
        }
      ],
      "source": [
        "kmeans3 = KMeans(n_clusters=3, random_state=100).fit(X)\n",
        "\n",
        "plt.scatter(X[:, 0], X[:, 1], c=kmeans3.labels_)\n",
        "plt.title(\"K-Means\")\n",
        "plt.ylabel(\"Monto Gastado\")\n",
        "plt.xlabel(\"Cantidad de pedidos\")\n",
        "plt.show()"
      ]
    },
    {
      "cell_type": "code",
      "execution_count": 7,
      "metadata": {
        "id": "ePCNcXUaPKmU"
      },
      "outputs": [],
      "source": [
        "from scipy.cluster.hierarchy import dendrogram, linkage\n",
        "from sklearn.cluster import AgglomerativeClustering\n",
        "\n",
        "complete = linkage(X, method=\"complete\")\n",
        "single = linkage(X, method=\"single\")\n",
        "average = linkage(X, method=\"average\")\n",
        "ward = linkage(X, method=\"ward\")"
      ]
    },
    {
      "cell_type": "code",
      "execution_count": null,
      "metadata": {
        "id": "XUz0L7WrROtd"
      },
      "outputs": [],
      "source": [
        "dendrogram(complete)\n",
        "plt.title(\"Linkage: Complete\")\n",
        "plt.show()"
      ]
    },
    {
      "cell_type": "code",
      "execution_count": null,
      "metadata": {
        "id": "EpkHRsCxRQUw"
      },
      "outputs": [],
      "source": [
        "dendrogram(single)\n",
        "plt.title(\"Linkage: Single\")\n",
        "plt.show()"
      ]
    },
    {
      "cell_type": "code",
      "execution_count": null,
      "metadata": {
        "id": "usstzYz4RSlL"
      },
      "outputs": [],
      "source": [
        "dendrogram(average)\n",
        "plt.title(\"Linkage: Average\")\n",
        "plt.show()"
      ]
    },
    {
      "cell_type": "code",
      "execution_count": null,
      "metadata": {
        "id": "EzsJHOuaRT8F"
      },
      "outputs": [],
      "source": [
        "dendrogram(ward)\n",
        "plt.title(\"Linkage: Ward\")\n",
        "plt.show()"
      ]
    },
    {
      "cell_type": "code",
      "execution_count": null,
      "metadata": {
        "id": "-d_F_eNVRuHU"
      },
      "outputs": [],
      "source": [
        "single_all = AgglomerativeClustering(n_clusters=None, linkage=\"ward\", distance_threshold=0).fit(X)\n",
        "print(single_all.n_clusters_)"
      ]
    },
    {
      "cell_type": "code",
      "execution_count": null,
      "metadata": {
        "id": "g733d-vjRuMO"
      },
      "outputs": [],
      "source": [
        "single_6 = AgglomerativeClustering(n_clusters=6, linkage=\"ward\").fit(X)\n",
        "print(single_6.n_clusters_)"
      ]
    },
    {
      "cell_type": "code",
      "execution_count": null,
      "metadata": {
        "id": "BNJv6n_LR0Gh"
      },
      "outputs": [],
      "source": [
        "# Respuesta SINGLE\n",
        "plt.scatter(new_X[:, 0], new_X[:, 1], c=single_6.labels_)\n",
        "plt.title(\"Hierarchical: single, 6 clusters\")\n",
        "plt.show()"
      ]
    },
    {
      "cell_type": "code",
      "execution_count": null,
      "metadata": {
        "id": "bK3qi2SgR503"
      },
      "outputs": [],
      "source": [
        "# Respuesta WARD\n",
        "plt.scatter(new_X[:, 0], new_X[:, 1], c=ward_5.labels_)\n",
        "plt.title(\"Hierarchical: ward, 5 clusters\")\n",
        "plt.show()"
      ]
    },
    {
      "cell_type": "markdown",
      "metadata": {
        "id": "mmcPKv8MriGz"
      },
      "source": [
        "# Contribuciones\n",
        "\n",
        "**María Hernández:** Encargada de encontrar el dataset.\n",
        "\n",
        "**Lung Pang:** Encargado de hacer el repositorio de GitHub y gráficos.\n",
        "\n",
        "**Cristóbal Saldías** Encargado del informe y su organización.\n",
        "\n",
        "**Víctor Vidal** Encargado de hacer la presentación."
      ]
    },
    {
      "cell_type": "code",
      "execution_count": null,
      "metadata": {
        "colab": {
          "base_uri": "https://localhost:8080/",
          "height": 254
        },
        "id": "9mXgZ8Dnxj08",
        "outputId": "edaeef4d-3b1a-495c-acb2-c71df3f0cacf"
      },
      "outputs": [
        {
          "data": {
            "text/html": [
              "<div>\n",
              "<style scoped>\n",
              "    .dataframe tbody tr th:only-of-type {\n",
              "        vertical-align: middle;\n",
              "    }\n",
              "\n",
              "    .dataframe tbody tr th {\n",
              "        vertical-align: top;\n",
              "    }\n",
              "\n",
              "    .dataframe thead th {\n",
              "        text-align: right;\n",
              "    }\n",
              "</style>\n",
              "<table border=\"1\" class=\"dataframe\">\n",
              "  <thead>\n",
              "    <tr style=\"text-align: right;\">\n",
              "      <th></th>\n",
              "      <th>ID</th>\n",
              "      <th>Precio Pedido</th>\n",
              "      <th>Numero Pedido</th>\n",
              "      <th>ID Cliente</th>\n",
              "      <th>Fecha Compra</th>\n",
              "      <th>Año Compra</th>\n",
              "      <th>Mes Compra</th>\n",
              "      <th>Cantidad Pedidos Cliente</th>\n",
              "      <th>Total Gastado Cliente</th>\n",
              "      <th>Comuna</th>\n",
              "      <th>Nombre Cliente</th>\n",
              "      <th>REGION CON CODIGO</th>\n",
              "      <th>Tipo despacho</th>\n",
              "    </tr>\n",
              "  </thead>\n",
              "  <tbody>\n",
              "    <tr>\n",
              "      <th>0</th>\n",
              "      <td>1,15E+12</td>\n",
              "      <td>21900</td>\n",
              "      <td>#1010</td>\n",
              "      <td>1.899446e+12</td>\n",
              "      <td>08-07-2019</td>\n",
              "      <td>2019</td>\n",
              "      <td>7</td>\n",
              "      <td>13.0</td>\n",
              "      <td>444337.0</td>\n",
              "      <td>COLINA</td>\n",
              "      <td>DENNISSE ALVARADO CHIGUAY</td>\n",
              "      <td>RM</td>\n",
              "      <td>Despacho</td>\n",
              "    </tr>\n",
              "    <tr>\n",
              "      <th>1</th>\n",
              "      <td>1,15E+12</td>\n",
              "      <td>37419</td>\n",
              "      <td>#1011</td>\n",
              "      <td>1.938644e+12</td>\n",
              "      <td>25-07-2019</td>\n",
              "      <td>2019</td>\n",
              "      <td>7</td>\n",
              "      <td>1.0</td>\n",
              "      <td>37419.0</td>\n",
              "      <td>307</td>\n",
              "      <td>Florencia  Garcia</td>\n",
              "      <td>RM</td>\n",
              "      <td>Despacho</td>\n",
              "    </tr>\n",
              "    <tr>\n",
              "      <th>2</th>\n",
              "      <td>1,15E+12</td>\n",
              "      <td>40419</td>\n",
              "      <td>#1012</td>\n",
              "      <td>1.938654e+12</td>\n",
              "      <td>25-07-2019</td>\n",
              "      <td>2019</td>\n",
              "      <td>7</td>\n",
              "      <td>1.0</td>\n",
              "      <td>40419.0</td>\n",
              "      <td>301</td>\n",
              "      <td>Belén  Herrera</td>\n",
              "      <td>RM</td>\n",
              "      <td>Despacho</td>\n",
              "    </tr>\n",
              "    <tr>\n",
              "      <th>3</th>\n",
              "      <td>1,15E+12</td>\n",
              "      <td>12329</td>\n",
              "      <td>#1013</td>\n",
              "      <td>1.939397e+12</td>\n",
              "      <td>25-07-2019</td>\n",
              "      <td>2019</td>\n",
              "      <td>7</td>\n",
              "      <td>1.0</td>\n",
              "      <td>12329.0</td>\n",
              "      <td>316</td>\n",
              "      <td>Jason Lizana</td>\n",
              "      <td>RM</td>\n",
              "      <td>Despacho</td>\n",
              "    </tr>\n",
              "    <tr>\n",
              "      <th>4</th>\n",
              "      <td>1,15E+12</td>\n",
              "      <td>20993</td>\n",
              "      <td>#1014</td>\n",
              "      <td>1.906865e+12</td>\n",
              "      <td>10-07-2019</td>\n",
              "      <td>2019</td>\n",
              "      <td>7</td>\n",
              "      <td>14.0</td>\n",
              "      <td>656793.0</td>\n",
              "      <td>LO BARNECHEA</td>\n",
              "      <td>Tomas Schnapp</td>\n",
              "      <td>RM</td>\n",
              "      <td>Retiro en tienda</td>\n",
              "    </tr>\n",
              "  </tbody>\n",
              "</table>\n",
              "</div>"
            ],
            "text/plain": [
              "         ID  Precio Pedido  ... REGION CON CODIGO     Tipo despacho\n",
              "0  1,15E+12          21900  ...                RM          Despacho\n",
              "1  1,15E+12          37419  ...                RM          Despacho\n",
              "2  1,15E+12          40419  ...                RM          Despacho\n",
              "3  1,15E+12          12329  ...                RM          Despacho\n",
              "4  1,15E+12          20993  ...                RM  Retiro en tienda\n",
              "\n",
              "[5 rows x 13 columns]"
            ]
          },
          "execution_count": 10,
          "metadata": {},
          "output_type": "execute_result"
        }
      ],
      "source": [
        "pedidos2.head()"
      ]
    },
    {
      "cell_type": "code",
      "execution_count": null,
      "metadata": {
        "colab": {
          "base_uri": "https://localhost:8080/",
          "height": 518
        },
        "id": "Eeo_XlvOMDIV",
        "outputId": "7e85d8b0-1aec-4656-e43c-a786a18b4b41"
      },
      "outputs": [
        {
          "data": {
            "text/html": [
              "<div>\n",
              "<style scoped>\n",
              "    .dataframe tbody tr th:only-of-type {\n",
              "        vertical-align: middle;\n",
              "    }\n",
              "\n",
              "    .dataframe tbody tr th {\n",
              "        vertical-align: top;\n",
              "    }\n",
              "\n",
              "    .dataframe thead th {\n",
              "        text-align: right;\n",
              "    }\n",
              "</style>\n",
              "<table border=\"1\" class=\"dataframe\">\n",
              "  <thead>\n",
              "    <tr style=\"text-align: right;\">\n",
              "      <th></th>\n",
              "      <th>ID</th>\n",
              "      <th>Precio Pedido</th>\n",
              "      <th>Numero Pedido</th>\n",
              "      <th>ID Cliente</th>\n",
              "      <th>Fecha Compra</th>\n",
              "      <th>Año Compra</th>\n",
              "      <th>Mes Compra</th>\n",
              "      <th>Cantidad Pedidos Cliente</th>\n",
              "      <th>Total Gastado Cliente</th>\n",
              "      <th>Comuna</th>\n",
              "      <th>Nombre Cliente</th>\n",
              "      <th>REGION CON CODIGO</th>\n",
              "      <th>Tipo despacho</th>\n",
              "    </tr>\n",
              "  </thead>\n",
              "  <tbody>\n",
              "    <tr>\n",
              "      <th>102573</th>\n",
              "      <td>3,87E+12</td>\n",
              "      <td>37983</td>\n",
              "      <td>BL103613</td>\n",
              "      <td>1.849671e+12</td>\n",
              "      <td>17-06-2019</td>\n",
              "      <td>2019</td>\n",
              "      <td>6</td>\n",
              "      <td>87.0</td>\n",
              "      <td>1705606.0</td>\n",
              "      <td>VITACURA</td>\n",
              "      <td>Mario Lorca</td>\n",
              "      <td>RM</td>\n",
              "      <td>Despacho</td>\n",
              "    </tr>\n",
              "    <tr>\n",
              "      <th>66402</th>\n",
              "      <td>2,89E+12</td>\n",
              "      <td>13383</td>\n",
              "      <td>BL67435</td>\n",
              "      <td>1.849671e+12</td>\n",
              "      <td>17-06-2019</td>\n",
              "      <td>2019</td>\n",
              "      <td>6</td>\n",
              "      <td>87.0</td>\n",
              "      <td>1705606.0</td>\n",
              "      <td>VITACURA</td>\n",
              "      <td>Mario Lorca</td>\n",
              "      <td>RM</td>\n",
              "      <td>Despacho</td>\n",
              "    </tr>\n",
              "    <tr>\n",
              "      <th>12123</th>\n",
              "      <td>2,06E+12</td>\n",
              "      <td>7693</td>\n",
              "      <td>BL13137</td>\n",
              "      <td>1.849671e+12</td>\n",
              "      <td>17-06-2019</td>\n",
              "      <td>2019</td>\n",
              "      <td>6</td>\n",
              "      <td>87.0</td>\n",
              "      <td>1705606.0</td>\n",
              "      <td>VITACURA</td>\n",
              "      <td>Mario Lorca</td>\n",
              "      <td>RM</td>\n",
              "      <td>Retiro en tienda</td>\n",
              "    </tr>\n",
              "    <tr>\n",
              "      <th>12093</th>\n",
              "      <td>2,06E+12</td>\n",
              "      <td>7693</td>\n",
              "      <td>BL13107</td>\n",
              "      <td>1.849671e+12</td>\n",
              "      <td>17-06-2019</td>\n",
              "      <td>2019</td>\n",
              "      <td>6</td>\n",
              "      <td>87.0</td>\n",
              "      <td>1705606.0</td>\n",
              "      <td>VITACURA</td>\n",
              "      <td>Mario Lorca</td>\n",
              "      <td>RM</td>\n",
              "      <td>Retiro en tienda</td>\n",
              "    </tr>\n",
              "    <tr>\n",
              "      <th>65398</th>\n",
              "      <td>2,87E+12</td>\n",
              "      <td>17655</td>\n",
              "      <td>BL66431</td>\n",
              "      <td>1.849671e+12</td>\n",
              "      <td>17-06-2019</td>\n",
              "      <td>2019</td>\n",
              "      <td>6</td>\n",
              "      <td>87.0</td>\n",
              "      <td>1705606.0</td>\n",
              "      <td>VITACURA</td>\n",
              "      <td>Mario Lorca</td>\n",
              "      <td>RM</td>\n",
              "      <td>Despacho</td>\n",
              "    </tr>\n",
              "    <tr>\n",
              "      <th>...</th>\n",
              "      <td>...</td>\n",
              "      <td>...</td>\n",
              "      <td>...</td>\n",
              "      <td>...</td>\n",
              "      <td>...</td>\n",
              "      <td>...</td>\n",
              "      <td>...</td>\n",
              "      <td>...</td>\n",
              "      <td>...</td>\n",
              "      <td>...</td>\n",
              "      <td>...</td>\n",
              "      <td>...</td>\n",
              "      <td>...</td>\n",
              "    </tr>\n",
              "    <tr>\n",
              "      <th>104912</th>\n",
              "      <td>3,89E+12</td>\n",
              "      <td>36980</td>\n",
              "      <td>BL105952</td>\n",
              "      <td>5.263262e+12</td>\n",
              "      <td>14-09-2021</td>\n",
              "      <td>2021</td>\n",
              "      <td>9</td>\n",
              "      <td>1.0</td>\n",
              "      <td>36980.0</td>\n",
              "      <td>ANGOL</td>\n",
              "      <td>Gustavo Espinoza</td>\n",
              "      <td>AR</td>\n",
              "      <td>Despacho</td>\n",
              "    </tr>\n",
              "    <tr>\n",
              "      <th>104913</th>\n",
              "      <td>3,89E+12</td>\n",
              "      <td>50980</td>\n",
              "      <td>BL105953</td>\n",
              "      <td>5.263263e+12</td>\n",
              "      <td>14-09-2021</td>\n",
              "      <td>2021</td>\n",
              "      <td>9</td>\n",
              "      <td>1.0</td>\n",
              "      <td>50980.0</td>\n",
              "      <td>QUILLOTA</td>\n",
              "      <td>Katherine Luna</td>\n",
              "      <td>VA</td>\n",
              "      <td>Despacho</td>\n",
              "    </tr>\n",
              "    <tr>\n",
              "      <th>104914</th>\n",
              "      <td>3,89E+12</td>\n",
              "      <td>82980</td>\n",
              "      <td>BL105954</td>\n",
              "      <td>5.263266e+12</td>\n",
              "      <td>14-09-2021</td>\n",
              "      <td>2021</td>\n",
              "      <td>9</td>\n",
              "      <td>1.0</td>\n",
              "      <td>82980.0</td>\n",
              "      <td>VALPARAISO</td>\n",
              "      <td>Maximiliano Letelier</td>\n",
              "      <td>VA</td>\n",
              "      <td>Despacho</td>\n",
              "    </tr>\n",
              "    <tr>\n",
              "      <th>104916</th>\n",
              "      <td>3,89E+12</td>\n",
              "      <td>58980</td>\n",
              "      <td>BL105956</td>\n",
              "      <td>5.263288e+12</td>\n",
              "      <td>14-09-2021</td>\n",
              "      <td>2021</td>\n",
              "      <td>9</td>\n",
              "      <td>1.0</td>\n",
              "      <td>58980.0</td>\n",
              "      <td>ANTOFAGASTA</td>\n",
              "      <td>Daniella Mackay</td>\n",
              "      <td>AN</td>\n",
              "      <td>Despacho</td>\n",
              "    </tr>\n",
              "    <tr>\n",
              "      <th>104919</th>\n",
              "      <td>3,89E+12</td>\n",
              "      <td>59980</td>\n",
              "      <td>BL105959</td>\n",
              "      <td>5.263303e+12</td>\n",
              "      <td>14-09-2021</td>\n",
              "      <td>2021</td>\n",
              "      <td>9</td>\n",
              "      <td>1.0</td>\n",
              "      <td>59980.0</td>\n",
              "      <td>MAIPU</td>\n",
              "      <td>Ignacio Valenzuela</td>\n",
              "      <td>RM</td>\n",
              "      <td>Despacho</td>\n",
              "    </tr>\n",
              "  </tbody>\n",
              "</table>\n",
              "<p>104920 rows × 13 columns</p>\n",
              "</div>"
            ],
            "text/plain": [
              "              ID  Precio Pedido  ... REGION CON CODIGO     Tipo despacho\n",
              "102573  3,87E+12          37983  ...                RM          Despacho\n",
              "66402   2,89E+12          13383  ...                RM          Despacho\n",
              "12123   2,06E+12           7693  ...                RM  Retiro en tienda\n",
              "12093   2,06E+12           7693  ...                RM  Retiro en tienda\n",
              "65398   2,87E+12          17655  ...                RM          Despacho\n",
              "...          ...            ...  ...               ...               ...\n",
              "104912  3,89E+12          36980  ...                AR          Despacho\n",
              "104913  3,89E+12          50980  ...                VA          Despacho\n",
              "104914  3,89E+12          82980  ...                VA          Despacho\n",
              "104916  3,89E+12          58980  ...                AN          Despacho\n",
              "104919  3,89E+12          59980  ...                RM          Despacho\n",
              "\n",
              "[104920 rows x 13 columns]"
            ]
          },
          "execution_count": 27,
          "metadata": {},
          "output_type": "execute_result"
        }
      ],
      "source": [
        "pedidos2.sort_values(by=['ID Cliente'])"
      ]
    },
    {
      "cell_type": "code",
      "execution_count": null,
      "metadata": {
        "colab": {
          "base_uri": "https://localhost:8080/",
          "height": 203
        },
        "id": "T_p9_M3SqUog",
        "outputId": "b0408fd7-f937-452d-f123-4ed4c594fde3"
      },
      "outputs": [
        {
          "data": {
            "text/html": [
              "<div>\n",
              "<style scoped>\n",
              "    .dataframe tbody tr th:only-of-type {\n",
              "        vertical-align: middle;\n",
              "    }\n",
              "\n",
              "    .dataframe tbody tr th {\n",
              "        vertical-align: top;\n",
              "    }\n",
              "\n",
              "    .dataframe thead th {\n",
              "        text-align: right;\n",
              "    }\n",
              "</style>\n",
              "<table border=\"1\" class=\"dataframe\">\n",
              "  <thead>\n",
              "    <tr style=\"text-align: right;\">\n",
              "      <th></th>\n",
              "      <th>id</th>\n",
              "      <th>Numero Pedido</th>\n",
              "      <th>Fecha Pedido</th>\n",
              "      <th>Nombre Producto</th>\n",
              "      <th>SKU</th>\n",
              "      <th>Cantidad</th>\n",
              "      <th>Precio Producto</th>\n",
              "      <th>Precio Total Productos</th>\n",
              "      <th>Marca</th>\n",
              "    </tr>\n",
              "  </thead>\n",
              "  <tbody>\n",
              "    <tr>\n",
              "      <th>0</th>\n",
              "      <td>1,12E+12</td>\n",
              "      <td>#1002</td>\n",
              "      <td>2019-07-04</td>\n",
              "      <td>Beanie Adidas Trefoil Accesorios - No Color / ...</td>\n",
              "      <td>DV2486-OSFM</td>\n",
              "      <td>1</td>\n",
              "      <td>17990</td>\n",
              "      <td>17990</td>\n",
              "      <td>ADIDAS</td>\n",
              "    </tr>\n",
              "    <tr>\n",
              "      <th>1</th>\n",
              "      <td>1,12E+12</td>\n",
              "      <td>#1003</td>\n",
              "      <td>2019-07-04</td>\n",
              "      <td>Jockey Dc Cap Star 2 Hombre - Verde / L-XL</td>\n",
              "      <td>55300096GRA0-LXL</td>\n",
              "      <td>2</td>\n",
              "      <td>17990</td>\n",
              "      <td>35980</td>\n",
              "      <td>DC</td>\n",
              "    </tr>\n",
              "    <tr>\n",
              "      <th>2</th>\n",
              "      <td>1,12E+12</td>\n",
              "      <td>#1003</td>\n",
              "      <td>2019-07-04</td>\n",
              "      <td>Zapatilla Adidas 3Mc Hombre - BURDEO / 8</td>\n",
              "      <td>DB3092-080</td>\n",
              "      <td>1</td>\n",
              "      <td>34990</td>\n",
              "      <td>34990</td>\n",
              "      <td>ADIDAS</td>\n",
              "    </tr>\n",
              "    <tr>\n",
              "      <th>3</th>\n",
              "      <td>1,12E+12</td>\n",
              "      <td>#1004</td>\n",
              "      <td>2019-07-05</td>\n",
              "      <td>Zapatilla Adidas Swift Run Hombre Negro Cq2114...</td>\n",
              "      <td>CQ2114-105</td>\n",
              "      <td>1</td>\n",
              "      <td>35990</td>\n",
              "      <td>35990</td>\n",
              "      <td>ADIDAS</td>\n",
              "    </tr>\n",
              "    <tr>\n",
              "      <th>4</th>\n",
              "      <td>1,12E+12</td>\n",
              "      <td>#1005</td>\n",
              "      <td>2019-07-05</td>\n",
              "      <td>Zapatilla Adidas 3Mc Mujer - BURDEO / 7.5</td>\n",
              "      <td>DB3092W-075</td>\n",
              "      <td>1</td>\n",
              "      <td>34990</td>\n",
              "      <td>34990</td>\n",
              "      <td>ADIDAS</td>\n",
              "    </tr>\n",
              "  </tbody>\n",
              "</table>\n",
              "</div>"
            ],
            "text/plain": [
              "         id Numero Pedido  ... Precio Total Productos   Marca\n",
              "0  1,12E+12         #1002  ...                  17990  ADIDAS\n",
              "1  1,12E+12         #1003  ...                  35980      DC\n",
              "2  1,12E+12         #1003  ...                  34990  ADIDAS\n",
              "3  1,12E+12         #1004  ...                  35990  ADIDAS\n",
              "4  1,12E+12         #1005  ...                  34990  ADIDAS\n",
              "\n",
              "[5 rows x 9 columns]"
            ]
          },
          "execution_count": 9,
          "metadata": {},
          "output_type": "execute_result"
        }
      ],
      "source": [
        "pedidos_detalles2.head()"
      ]
    }
  ],
  "metadata": {
    "colab": {
      "collapsed_sections": [],
      "machine_shape": "hm",
      "name": "Hito2Mineria.ipynb",
      "provenance": []
    },
    "kernelspec": {
      "display_name": "Python 3",
      "name": "python3"
    },
    "language_info": {
      "codemirror_mode": {
        "name": "ipython",
        "version": 3
      },
      "file_extension": ".py",
      "mimetype": "text/x-python",
      "name": "python",
      "nbconvert_exporter": "python",
      "pygments_lexer": "ipython3",
      "version": "3.8.8"
    }
  },
  "nbformat": 4,
  "nbformat_minor": 0
}
